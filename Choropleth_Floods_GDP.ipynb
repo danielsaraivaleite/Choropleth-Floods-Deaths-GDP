{
 "cells": [
  {
   "cell_type": "markdown",
   "metadata": {},
   "source": [
    "# Choropleth map of number of deaths from floods and per capita GDP\n",
    "\n",
    "This notebook shows how to ploat a choropleth map using Plotly library, depicting the number of deaths from floods in the 21st century combined with the per capita GDP of the countries involved. Data is captured from Wikipedia and https://countrycode.org."
   ]
  },
  {
   "cell_type": "code",
   "execution_count": null,
   "metadata": {},
   "outputs": [
    {
     "name": "stdout",
     "output_type": "stream",
     "text": [
      "Requirement already satisfied: lxml in /Applications/anaconda3/lib/python3.8/site-packages (4.6.1)\n",
      "Requirement already satisfied: plotly in /Applications/anaconda3/lib/python3.8/site-packages (5.6.0)\n",
      "Requirement already satisfied: six in /Applications/anaconda3/lib/python3.8/site-packages (from plotly) (1.15.0)\n",
      "Requirement already satisfied: tenacity>=6.2.0 in /Applications/anaconda3/lib/python3.8/site-packages (from plotly) (8.0.1)\n"
     ]
    },
    {
     "data": {
      "text/html": [
       "<script>Jupyter.notebook.kernel.restart()</script>"
      ]
     },
     "metadata": {},
     "output_type": "display_data"
    }
   ],
   "source": [
    "\"\"\"\n",
    "Install the necessary modules to run this notebook\n",
    "IMPORTANT: Run this cell only once\n",
    "\"\"\"\n",
    "\n",
    "from IPython.display import display, HTML, display_html\n",
    "! pip install \"lxml\";\n",
    "! pip install \"plotly\";\n",
    "\n",
    "display_html(\"<script>Jupyter.notebook.kernel.restart()</script>\",raw=True) # restart kernel"
   ]
  },
  {
   "cell_type": "code",
   "execution_count": 26,
   "metadata": {},
   "outputs": [
    {
     "data": {
      "application/vnd.plotly.v1+json": {
       "config": {
        "plotlyServerURL": "https://plot.ly"
       },
       "data": [
        {
         "autocolorscale": false,
         "colorbar": {
          "title": {
           "text": "GDP per <br>capita (USD)"
          }
         },
         "colorscale": [
          [
           0,
           "rgb(247,251,255)"
          ],
          [
           0.125,
           "rgb(222,235,247)"
          ],
          [
           0.25,
           "rgb(198,219,239)"
          ],
          [
           0.375,
           "rgb(158,202,225)"
          ],
          [
           0.5,
           "rgb(107,174,214)"
          ],
          [
           0.625,
           "rgb(66,146,198)"
          ],
          [
           0.75,
           "rgb(33,113,181)"
          ],
          [
           0.875,
           "rgb(8,81,156)"
          ],
          [
           1,
           "rgb(8,48,107)"
          ]
         ],
         "hoverinfo": "skip",
         "locations": [
          "AFG",
          "ALB",
          "DZA",
          "ASM",
          "AND",
          "AGO",
          "AIA",
          "ATG",
          "ARG",
          "ARM",
          "ABW",
          "AUS",
          "AUT",
          "AZE",
          "BHS",
          "BHR",
          "BGD",
          "BRB",
          "BLR",
          "BEL",
          "BLZ",
          "BEN",
          "BMU",
          "BTN",
          "BOL",
          "BIH",
          "BWA",
          "BRA",
          "VGB",
          "BRN",
          "BGR",
          "BFA",
          "BDI",
          "KHM",
          "CMR",
          "CAN",
          "CPV",
          "CYM",
          "CAF",
          "TCD",
          "CHL",
          "CHN",
          "COL",
          "COM",
          "COK",
          "CRI",
          "HRV",
          "CUB",
          "CUW",
          "CYP",
          "CZE",
          "COD",
          "DNK",
          "DJI",
          "DMA",
          "DOM",
          "TLS",
          "ECU",
          "EGY",
          "SLV",
          "GNQ",
          "ERI",
          "EST",
          "ETH",
          "FLK",
          "FRO",
          "FJI",
          "FIN",
          "FRA",
          "PYF",
          "GAB",
          "GMB",
          "GEO",
          "DEU",
          "GHA",
          "GIB",
          "GRC",
          "GRL",
          "GRD",
          "GUM",
          "GTM",
          "GGY",
          "GIN",
          "GNB",
          "GUY",
          "HTI",
          "HND",
          "HKG",
          "HUN",
          "ISL",
          "IND",
          "IDN",
          "IRN",
          "IRQ",
          "IRL",
          "IMN",
          "ISR",
          "ITA",
          "CIV",
          "JAM",
          "JPN",
          "JEY",
          "JOR",
          "KAZ",
          "KEN",
          "KIR",
          "XKX",
          "KWT",
          "KGZ",
          "LAO",
          "LVA",
          "LBN",
          "LSO",
          "LBR",
          "LBY",
          "LIE",
          "LTU",
          "LUX",
          "MAC",
          "MKD",
          "MDG",
          "MWI",
          "MYS",
          "MDV",
          "MLI",
          "MLT",
          "MHL",
          "MRT",
          "MUS",
          "MEX",
          "FSM",
          "MDA",
          "MCO",
          "MNG",
          "MNE",
          "MAR",
          "MOZ",
          "MMR",
          "NAM",
          "NPL",
          "NLD",
          "NCL",
          "NZL",
          "NIC",
          "NER",
          "NGA",
          "NIU",
          "PRK",
          "MNP",
          "NOR",
          "OMN",
          "PAK",
          "PLW",
          "PSE",
          "PAN",
          "PNG",
          "PRY",
          "PER",
          "PHL",
          "POL",
          "PRT",
          "PRI",
          "QAT",
          "COG",
          "ROU",
          "RUS",
          "RWA",
          "KNA",
          "LCA",
          "MAF",
          "SPM",
          "VCT",
          "WSM",
          "SMR",
          "STP",
          "SAU",
          "SEN",
          "SRB",
          "SYC",
          "SLE",
          "SGP",
          "SXM",
          "SVK",
          "SVN",
          "SLB",
          "SOM",
          "ZAF",
          "KOR",
          "SSD",
          "ESP",
          "LKA",
          "SDN",
          "SUR",
          "SWZ",
          "SWE",
          "CHE",
          "SYR",
          "TWN",
          "TJK",
          "TZA",
          "THA",
          "TGO",
          "TON",
          "TTO",
          "TUN",
          "TUR",
          "TKM",
          "TUV",
          "UGA",
          "UKR",
          "ARE",
          "GBR",
          "USA",
          "URY",
          "UZB",
          "VUT",
          "VEN",
          "VNM",
          "YEM",
          "ZMB",
          "ZWE"
         ],
         "marker": {
          "line": {
           "color": "darkgray",
           "width": 0.5
          }
         },
         "reversescale": false,
         "text": [
          "GDP per capita (USD) of Afghanistan",
          "GDP per capita (USD) of Albania",
          "GDP per capita (USD) of Algeria",
          "GDP per capita (USD) of American Samoa",
          "GDP per capita (USD) of Andorra",
          "GDP per capita (USD) of Angola",
          "GDP per capita (USD) of Anguilla",
          "GDP per capita (USD) of Antigua and Barbuda",
          "GDP per capita (USD) of Argentina",
          "GDP per capita (USD) of Armenia",
          "GDP per capita (USD) of Aruba",
          "GDP per capita (USD) of Australia",
          "GDP per capita (USD) of Austria",
          "GDP per capita (USD) of Azerbaijan",
          "GDP per capita (USD) of Bahamas",
          "GDP per capita (USD) of Bahrain",
          "GDP per capita (USD) of Bangladesh",
          "GDP per capita (USD) of Barbados",
          "GDP per capita (USD) of Belarus",
          "GDP per capita (USD) of Belgium",
          "GDP per capita (USD) of Belize",
          "GDP per capita (USD) of Benin",
          "GDP per capita (USD) of Bermuda",
          "GDP per capita (USD) of Bhutan",
          "GDP per capita (USD) of Bolivia",
          "GDP per capita (USD) of Bosnia and Herzegovina",
          "GDP per capita (USD) of Botswana",
          "GDP per capita (USD) of Brazil",
          "GDP per capita (USD) of British Virgin Islands",
          "GDP per capita (USD) of Brunei",
          "GDP per capita (USD) of Bulgaria",
          "GDP per capita (USD) of Burkina Faso",
          "GDP per capita (USD) of Burundi",
          "GDP per capita (USD) of Cambodia",
          "GDP per capita (USD) of Cameroon",
          "GDP per capita (USD) of Canada",
          "GDP per capita (USD) of Cape Verde",
          "GDP per capita (USD) of Cayman Islands",
          "GDP per capita (USD) of Central African Republic",
          "GDP per capita (USD) of Chad",
          "GDP per capita (USD) of Chile",
          "GDP per capita (USD) of China",
          "GDP per capita (USD) of Colombia",
          "GDP per capita (USD) of Comoros",
          "GDP per capita (USD) of Cook Islands",
          "GDP per capita (USD) of Costa Rica",
          "GDP per capita (USD) of Croatia",
          "GDP per capita (USD) of Cuba",
          "GDP per capita (USD) of Curacao",
          "GDP per capita (USD) of Cyprus",
          "GDP per capita (USD) of Czech Republic",
          "GDP per capita (USD) of Democratic Republic of the Congo",
          "GDP per capita (USD) of Denmark",
          "GDP per capita (USD) of Djibouti",
          "GDP per capita (USD) of Dominica",
          "GDP per capita (USD) of Dominican Republic",
          "GDP per capita (USD) of East Timor",
          "GDP per capita (USD) of Ecuador",
          "GDP per capita (USD) of Egypt",
          "GDP per capita (USD) of El Salvador",
          "GDP per capita (USD) of Equatorial Guinea",
          "GDP per capita (USD) of Eritrea",
          "GDP per capita (USD) of Estonia",
          "GDP per capita (USD) of Ethiopia",
          "GDP per capita (USD) of Falkland Islands",
          "GDP per capita (USD) of Faroe Islands",
          "GDP per capita (USD) of Fiji",
          "GDP per capita (USD) of Finland",
          "GDP per capita (USD) of France",
          "GDP per capita (USD) of French Polynesia",
          "GDP per capita (USD) of Gabon",
          "GDP per capita (USD) of Gambia",
          "GDP per capita (USD) of Georgia",
          "GDP per capita (USD) of Germany",
          "GDP per capita (USD) of Ghana",
          "GDP per capita (USD) of Gibraltar",
          "GDP per capita (USD) of Greece",
          "GDP per capita (USD) of Greenland",
          "GDP per capita (USD) of Grenada",
          "GDP per capita (USD) of Guam",
          "GDP per capita (USD) of Guatemala",
          "GDP per capita (USD) of Guernsey",
          "GDP per capita (USD) of Guinea",
          "GDP per capita (USD) of Guinea-Bissau",
          "GDP per capita (USD) of Guyana",
          "GDP per capita (USD) of Haiti",
          "GDP per capita (USD) of Honduras",
          "GDP per capita (USD) of Hong Kong",
          "GDP per capita (USD) of Hungary",
          "GDP per capita (USD) of Iceland",
          "GDP per capita (USD) of India",
          "GDP per capita (USD) of Indonesia",
          "GDP per capita (USD) of Iran",
          "GDP per capita (USD) of Iraq",
          "GDP per capita (USD) of Ireland",
          "GDP per capita (USD) of Isle of Man",
          "GDP per capita (USD) of Israel",
          "GDP per capita (USD) of Italy",
          "GDP per capita (USD) of Ivory Coast",
          "GDP per capita (USD) of Jamaica",
          "GDP per capita (USD) of Japan",
          "GDP per capita (USD) of Jersey",
          "GDP per capita (USD) of Jordan",
          "GDP per capita (USD) of Kazakhstan",
          "GDP per capita (USD) of Kenya",
          "GDP per capita (USD) of Kiribati",
          "GDP per capita (USD) of Kosovo",
          "GDP per capita (USD) of Kuwait",
          "GDP per capita (USD) of Kyrgyzstan",
          "GDP per capita (USD) of Laos",
          "GDP per capita (USD) of Latvia",
          "GDP per capita (USD) of Lebanon",
          "GDP per capita (USD) of Lesotho",
          "GDP per capita (USD) of Liberia",
          "GDP per capita (USD) of Libya",
          "GDP per capita (USD) of Liechtenstein",
          "GDP per capita (USD) of Lithuania",
          "GDP per capita (USD) of Luxembourg",
          "GDP per capita (USD) of Macau",
          "GDP per capita (USD) of Macedonia",
          "GDP per capita (USD) of Madagascar",
          "GDP per capita (USD) of Malawi",
          "GDP per capita (USD) of Malaysia",
          "GDP per capita (USD) of Maldives",
          "GDP per capita (USD) of Mali",
          "GDP per capita (USD) of Malta",
          "GDP per capita (USD) of Marshall Islands",
          "GDP per capita (USD) of Mauritania",
          "GDP per capita (USD) of Mauritius",
          "GDP per capita (USD) of Mexico",
          "GDP per capita (USD) of Micronesia",
          "GDP per capita (USD) of Moldova",
          "GDP per capita (USD) of Monaco",
          "GDP per capita (USD) of Mongolia",
          "GDP per capita (USD) of Montenegro",
          "GDP per capita (USD) of Morocco",
          "GDP per capita (USD) of Mozambique",
          "GDP per capita (USD) of Myanmar",
          "GDP per capita (USD) of Namibia",
          "GDP per capita (USD) of Nepal",
          "GDP per capita (USD) of Netherlands",
          "GDP per capita (USD) of New Caledonia",
          "GDP per capita (USD) of New Zealand",
          "GDP per capita (USD) of Nicaragua",
          "GDP per capita (USD) of Niger",
          "GDP per capita (USD) of Nigeria",
          "GDP per capita (USD) of Niue",
          "GDP per capita (USD) of North Korea",
          "GDP per capita (USD) of Northern Mariana Islands",
          "GDP per capita (USD) of Norway",
          "GDP per capita (USD) of Oman",
          "GDP per capita (USD) of Pakistan",
          "GDP per capita (USD) of Palau",
          "GDP per capita (USD) of Palestine",
          "GDP per capita (USD) of Panama",
          "GDP per capita (USD) of Papua New Guinea",
          "GDP per capita (USD) of Paraguay",
          "GDP per capita (USD) of Peru",
          "GDP per capita (USD) of Philippines",
          "GDP per capita (USD) of Poland",
          "GDP per capita (USD) of Portugal",
          "GDP per capita (USD) of Puerto Rico",
          "GDP per capita (USD) of Qatar",
          "GDP per capita (USD) of Republic of the Congo",
          "GDP per capita (USD) of Romania",
          "GDP per capita (USD) of Russia",
          "GDP per capita (USD) of Rwanda",
          "GDP per capita (USD) of Saint Kitts and Nevis",
          "GDP per capita (USD) of Saint Lucia",
          "GDP per capita (USD) of Saint Martin",
          "GDP per capita (USD) of Saint Pierre and Miquelon",
          "GDP per capita (USD) of Saint Vincent and the Grenadines",
          "GDP per capita (USD) of Samoa",
          "GDP per capita (USD) of San Marino",
          "GDP per capita (USD) of Sao Tome and Principe",
          "GDP per capita (USD) of Saudi Arabia",
          "GDP per capita (USD) of Senegal",
          "GDP per capita (USD) of Serbia",
          "GDP per capita (USD) of Seychelles",
          "GDP per capita (USD) of Sierra Leone",
          "GDP per capita (USD) of Singapore",
          "GDP per capita (USD) of Sint Maarten",
          "GDP per capita (USD) of Slovakia",
          "GDP per capita (USD) of Slovenia",
          "GDP per capita (USD) of Solomon Islands",
          "GDP per capita (USD) of Somalia",
          "GDP per capita (USD) of South Africa",
          "GDP per capita (USD) of South Korea",
          "GDP per capita (USD) of South Sudan",
          "GDP per capita (USD) of Spain",
          "GDP per capita (USD) of Sri Lanka",
          "GDP per capita (USD) of Sudan",
          "GDP per capita (USD) of Suriname",
          "GDP per capita (USD) of Swaziland",
          "GDP per capita (USD) of Sweden",
          "GDP per capita (USD) of Switzerland",
          "GDP per capita (USD) of Syria",
          "GDP per capita (USD) of Taiwan",
          "GDP per capita (USD) of Tajikistan",
          "GDP per capita (USD) of Tanzania",
          "GDP per capita (USD) of Thailand",
          "GDP per capita (USD) of Togo",
          "GDP per capita (USD) of Tonga",
          "GDP per capita (USD) of Trinidad and Tobago",
          "GDP per capita (USD) of Tunisia",
          "GDP per capita (USD) of Turkey",
          "GDP per capita (USD) of Turkmenistan",
          "GDP per capita (USD) of Tuvalu",
          "GDP per capita (USD) of Uganda",
          "GDP per capita (USD) of Ukraine",
          "GDP per capita (USD) of United Arab Emirates",
          "GDP per capita (USD) of United Kingdom",
          "GDP per capita (USD) of United States",
          "GDP per capita (USD) of Uruguay",
          "GDP per capita (USD) of Uzbekistan",
          "GDP per capita (USD) of Vanuatu",
          "GDP per capita (USD) of Venezuela",
          "GDP per capita (USD) of Vietnam",
          "GDP per capita (USD) of Yemen",
          "GDP per capita (USD) of Zambia",
          "GDP per capita (USD) of Zimbabwe"
         ],
         "type": "choropleth",
         "z": [
          709.1032999023463,
          4285.304886051064,
          6236.59435802458,
          7985.349251049567,
          57142.857142857145,
          9488.71076810272,
          13233.740757507168,
          14062.752149756783,
          11721.395254324889,
          3517.520215633423,
          35156.359164966605,
          69158.62674391983,
          50932.35831809872,
          9153.957987897169,
          27744.458066867686,
          38427.97600013008,
          898.0359940000435,
          14920.200382982148,
          7149.199793495096,
          48774.392002307024,
          5204.723357984497,
          923.0334330461208,
          85672.76065172492,
          3047.809021114615,
          3095.2755780444736,
          4111.111111111111,
          7652.858833089325,
          10889.924100212562,
          50391.16428900138,
          41921.1851341807,
          7511.76598540871,
          746.83789880328,
          271.31382503117425,
          1082.0773671480204,
          1444.9976518788158,
          54188.069717034356,
          3843.4393178927335,
          50824.4861079738,
          423.122990294797,
          1288.95019701305,
          16821.43441273757,
          7014.805525230744,
          7725.465578572923,
          850.7810247385917,
          8565.550776136151,
          10741.283639858111,
          13168.55934090403,
          6329.335551081152,
          39501.7140922365,
          19751.93098250893,
          18594.883543337153,
          261.71646887120204,
          59135.66739606127,
          1970.2158459909685,
          6798.2365786329365,
          6033.293969831087,
          5308.21695355635,
          6180.273319392955,
          3255.79613417454,
          4076.295293638666,
          16827.60278581555,
          593.4765226349667,
          18804.650046082235,
          537.8720859964525,
          62357.84685367703,
          48104.83536534793,
          4815.16193807414,
          49504.19527078567,
          42289.14818307431,
          20888.40416289258,
          12923.43334918832,
          562.3703911989033,
          3444.924406047516,
          43922.993469483365,
          1871.4175501085915,
          39664.323626452446,
          22118.18181818182,
          38314.85587583148,
          7521.9351128754015,
          28865.824119278604,
          3977.7306124376773,
          42037.16195498865,
          633.8613089371636,
          562.2550516699614,
          4034.811606362711,
          858.8522409338078,
          2363.1267120308557,
          39442.29379333978,
          13083.550390703265,
          47230.584960020715,
          1423.568822628233,
          3570.4240019878803,
          5354.684471415033,
          7475.160174179995,
          47783.68289977951,
          54311.18336020466,
          37081.935848386966,
          34272.26978282253,
          1342.906655925946,
          5054.03142420428,
          39335.99396643831,
          56159.97885741972,
          5319.111577261734,
          14661.016949152543,
          1131.4328424564544,
          1869.603276668864,
          3972.222222222222,
          64356.93972174856,
          1313.2131315504084,
          1586.0149286403205,
          13697.215786153909,
          10542.399036954635,
          1279.9861634381355,
          536.4882569586082,
          10975.857755854951,
          146085.7142857143,
          15863.695164374847,
          121679.14812536932,
          115049.48819896794,
          5164.1521528938165,
          494.7879516455435,
          238.42045638452825,
          11048.73542731391,
          5737.394161506382,
          824.130781219444,
          23674.937965260546,
          2930.5030443826963,
          1305.12377303389,
          9195.551516725085,
          11798.821993875548,
          3147.3985219296615,
          1834.4125809435707,
          174366.75261641134,
          3608.7774278422685,
          6776.356246156615,
          3313.5795930038953,
          664.9607951897633,
          1112.6218571802415,
          5778.796140515891,
          668.0056253396156,
          43394.412736557526,
          42864.929282104815,
          42588.94705119163,
          1877.9411627357767,
          459.99970651716427,
          3259.7402597402597,
          4621.421975992613,
          1222.0575984551795,
          13603.548429003582,
          102971.5620414641,
          27613.81897263115,
          1282.504639480869,
          11101.622544833475,
          1747.6315789473683,
          11909.66248333175,
          2654.78772828495,
          4793.101447184132,
          7031.797870217889,
          2724.7198971429248,
          13348.051948051949,
          20541.40127388535,
          23877.65815118704,
          253411.12059800743,
          4688.848043812596,
          8602.286468617047,
          15017.554832198548,
          696.4559257364524,
          14999.804435405014,
          8556.940629621804,
          15629.784272790535,
          30704.506560182544,
          7119.75973209745,
          3671.855875750647,
          59281.38005527846,
          1768.9752457226066,
          27922.67428412248,
          1246.4242393160507,
          5947.026534385263,
          14387.593389178175,
          878.2439695788642,
          62900.58707923666,
          21232.19963130193,
          17774.518790100825,
          23328.35077229696,
          1965.3146112825868,
          234.5622768283818,
          7222.448979591837,
          24740.491246202913,
          1424.854942019178,
          29157.55125853431,
          3026.8676335723876,
          1500,
          10163.768771724066,
          2811.5632276775395,
          57765.40193574792,
          85239.4143252869,
          2914.662554604874,
          21171.13087646298,
          1136.9632730011356,
          762.4204533966918,
          5975.5997585315135,
          652.6254778367689,
          3891.336270190896,
          22080.40915087683,
          4568.881459813345,
          10562.422386824184,
          8209.004160362168,
          3628.724216959511,
          676.6734088488881,
          3864.3112819657813,
          78382.61690616576,
          39936.84076846373,
          53894.99951202783,
          16425.079091170548,
          1980.2095318631073,
          3737.271611179317,
          13499.50123475438,
          1897.932961211944,
          1868.0283312097226,
          1652.2656804582066,
          899.4273702957931
         ],
         "zmax": 100000,
         "zmin": 100
        },
        {
         "hoverlabel": {
          "bgcolor": "white"
         },
         "hovertemplate": "%{text} <extra></extra>",
         "locations": [
          "IND",
          "CHN",
          "PAK",
          "PRK",
          "BRA",
          "HTI",
          "DOM",
          "BGD",
          "THA",
          "AFG",
          "NPL",
          "ETH",
          "IDN",
          "DZA",
          "COL",
          "PHL",
          "VNM",
          "MYS",
          "ZAF",
          "MMR",
          "KHM",
          "USA",
          "NGA",
          "YEM",
          "ZWE",
          "JPN",
          "ARG",
          "KEN",
          "SOM",
          "RUS",
          "SDN",
          "SLV",
          "LAO",
          "RWA",
          "UGA",
          "LKA",
          "MOZ",
          "SAU",
          "BDI",
          "DJI",
          "IRN",
          "NER",
          "TUR",
          "ITA",
          "ROU",
          "TZA",
          "GHA",
          "NAM",
          "KOR",
          "FRA",
          "AUT",
          "DEU",
          "AUS",
          "MDG",
          "MWI",
          "PRT",
          "BFA",
          "COD",
          "GBR",
          "CZE",
          "CHL",
          "ZMB",
          "AGO",
          "SGP",
          "HRV",
          "CHE",
          "TGO",
          "POL",
          "BGR",
          "ESP",
          "EGY",
          "NLD",
          "BEL",
          "MKD",
          "SRB",
          "GEO",
          "SVK",
          "LUX",
          "BIH",
          "LBR",
          "MLI",
          "BEN",
          "GMB",
          "CIV",
          "GIN",
          "MRT",
          "SLE",
          "SEN",
          "HUN",
          "IRL",
          "MDA"
         ],
         "marker": {
          "color": "rgba(227,18,18,0.6)",
          "size": [
           18123,
           9516,
           5715,
           2375,
           2079,
           1681,
           1681,
           1642,
           1542,
           1266,
           1115,
           968,
           889,
           827,
           782,
           677,
           674,
           609,
           567,
           550,
           524,
           383,
           363,
           352,
           349,
           302,
           270,
           270,
           235,
           226,
           209,
           199,
           184,
           156,
           156,
           141,
           132,
           122,
           121,
           121,
           119,
           116,
           115,
           99,
           90,
           88,
           86,
           85,
           79,
           64,
           62,
           62,
           57,
           56,
           56,
           55,
           51,
           50,
           48,
           48,
           43,
           43,
           43,
           39,
           37,
           37,
           35,
           28,
           28,
           26,
           26,
           22,
           22,
           21,
           20,
           20,
           20,
           20,
           17,
           16,
           16,
           16,
           16,
           16,
           16,
           16,
           16,
           16,
           10,
           4,
           2
          ],
          "sizemin": 1,
          "sizemode": "area",
          "sizeref": 7.397142857142857
         },
         "mode": "markers",
         "text": [
          "<b>Country: India</b><br><br>Floods death toll (2001-2023): 18123<br>Rank: top 1 in deaths<br><br>GDP per capita (USD): 1423.57",
          "<b>Country: China</b><br><br>Floods death toll (2001-2023): 9516<br>Rank: top 2 in deaths<br><br>GDP per capita (USD): 7014.81",
          "<b>Country: Pakistan</b><br><br>Floods death toll (2001-2023): 5715<br>Rank: top 3 in deaths<br><br>GDP per capita (USD): 1282.5",
          "<b>Country: North Korea</b><br><br>Floods death toll (2001-2023): 2375<br>Rank: top 4 in deaths<br><br>GDP per capita (USD): 1222.06",
          "<b>Country: Brazil</b><br><br>Floods death toll (2001-2023): 2079<br>Rank: top 5 in deaths<br><br>GDP per capita (USD): 10889.92",
          "<b>Country: Haiti</b><br><br>Floods death toll (2001-2023): 1681<br>Rank: top 6 in deaths<br><br>GDP per capita (USD): 858.85",
          "<b>Country: Dominican Republic</b><br><br>Floods death toll (2001-2023): 1681<br>Rank: top 6 in deaths<br><br>GDP per capita (USD): 6033.29",
          "<b>Country: Bangladesh</b><br><br>Floods death toll (2001-2023): 1642<br>Rank: top 8 in deaths<br><br>GDP per capita (USD): 898.04",
          "<b>Country: Thailand</b><br><br>Floods death toll (2001-2023): 1542<br>Rank: top 9 in deaths<br><br>GDP per capita (USD): 5975.6",
          "<b>Country: Afghanistan</b><br><br>Floods death toll (2001-2023): 1266<br>Rank: top 10 in deaths<br><br>GDP per capita (USD): 709.1",
          "<b>Country: Nepal</b><br><br>Floods death toll (2001-2023): 1115<br>Rank: top 11 in deaths<br><br>GDP per capita (USD): 668.01",
          "<b>Country: Ethiopia</b><br><br>Floods death toll (2001-2023): 968<br>Rank: top 12 in deaths<br><br>GDP per capita (USD): 537.87",
          "<b>Country: Indonesia</b><br><br>Floods death toll (2001-2023): 889<br>Rank: top 13 in deaths<br><br>GDP per capita (USD): 3570.42",
          "<b>Country: Algeria</b><br><br>Floods death toll (2001-2023): 827<br>Rank: top 14 in deaths<br><br>GDP per capita (USD): 6236.59",
          "<b>Country: Colombia</b><br><br>Floods death toll (2001-2023): 782<br>Rank: top 15 in deaths<br><br>GDP per capita (USD): 7725.47",
          "<b>Country: Philippines</b><br><br>Floods death toll (2001-2023): 677<br>Rank: top 16 in deaths<br><br>GDP per capita (USD): 2724.72",
          "<b>Country: Vietnam</b><br><br>Floods death toll (2001-2023): 674<br>Rank: top 17 in deaths<br><br>GDP per capita (USD): 1897.93",
          "<b>Country: Malaysia</b><br><br>Floods death toll (2001-2023): 609<br>Rank: top 18 in deaths<br><br>GDP per capita (USD): 11048.74",
          "<b>Country: South Africa</b><br><br>Floods death toll (2001-2023): 567<br>Rank: top 19 in deaths<br><br>GDP per capita (USD): 7222.45",
          "<b>Country: Myanmar</b><br><br>Floods death toll (2001-2023): 550<br>Rank: top 20 in deaths<br><br>GDP per capita (USD): 1112.62",
          "<b>Country: Cambodia</b><br><br>Floods death toll (2001-2023): 524<br>Rank: top 21 in deaths<br><br>GDP per capita (USD): 1082.08",
          "<b>Country: United States</b><br><br>Floods death toll (2001-2023): 383<br>Rank: top 22 in deaths<br><br>GDP per capita (USD): 53895.0",
          "<b>Country: Nigeria</b><br><br>Floods death toll (2001-2023): 363<br>Rank: top 23 in deaths<br><br>GDP per capita (USD): 3259.74",
          "<b>Country: Yemen</b><br><br>Floods death toll (2001-2023): 352<br>Rank: top 24 in deaths<br><br>GDP per capita (USD): 1868.03",
          "<b>Country: Zimbabwe</b><br><br>Floods death toll (2001-2023): 349<br>Rank: top 25 in deaths<br><br>GDP per capita (USD): 899.43",
          "<b>Country: Japan</b><br><br>Floods death toll (2001-2023): 302<br>Rank: top 26 in deaths<br><br>GDP per capita (USD): 39335.99",
          "<b>Country: Argentina</b><br><br>Floods death toll (2001-2023): 270<br>Rank: top 27 in deaths<br><br>GDP per capita (USD): 11721.4",
          "<b>Country: Kenya</b><br><br>Floods death toll (2001-2023): 270<br>Rank: top 27 in deaths<br><br>GDP per capita (USD): 1131.43",
          "<b>Country: Somalia</b><br><br>Floods death toll (2001-2023): 235<br>Rank: top 29 in deaths<br><br>GDP per capita (USD): 234.56",
          "<b>Country: Russia</b><br><br>Floods death toll (2001-2023): 226<br>Rank: top 30 in deaths<br><br>GDP per capita (USD): 15017.55",
          "<b>Country: Sudan</b><br><br>Floods death toll (2001-2023): 209<br>Rank: top 31 in deaths<br><br>GDP per capita (USD): 1500.0",
          "<b>Country: El Salvador</b><br><br>Floods death toll (2001-2023): 199<br>Rank: top 32 in deaths<br><br>GDP per capita (USD): 4076.3",
          "<b>Country: Laos</b><br><br>Floods death toll (2001-2023): 184<br>Rank: top 33 in deaths<br><br>GDP per capita (USD): 1586.01",
          "<b>Country: Rwanda</b><br><br>Floods death toll (2001-2023): 156<br>Rank: top 34 in deaths<br><br>GDP per capita (USD): 696.46",
          "<b>Country: Uganda</b><br><br>Floods death toll (2001-2023): 156<br>Rank: top 34 in deaths<br><br>GDP per capita (USD): 676.67",
          "<b>Country: Sri Lanka</b><br><br>Floods death toll (2001-2023): 141<br>Rank: top 36 in deaths<br><br>GDP per capita (USD): 3026.87",
          "<b>Country: Mozambique</b><br><br>Floods death toll (2001-2023): 132<br>Rank: top 37 in deaths<br><br>GDP per capita (USD): 664.96",
          "<b>Country: Saudi Arabia</b><br><br>Floods death toll (2001-2023): 122<br>Rank: top 38 in deaths<br><br>GDP per capita (USD): 27922.67",
          "<b>Country: Burundi</b><br><br>Floods death toll (2001-2023): 121<br>Rank: top 39 in deaths<br><br>GDP per capita (USD): 271.31",
          "<b>Country: Djibouti</b><br><br>Floods death toll (2001-2023): 121<br>Rank: top 39 in deaths<br><br>GDP per capita (USD): 1970.22",
          "<b>Country: Iran</b><br><br>Floods death toll (2001-2023): 119<br>Rank: top 41 in deaths<br><br>GDP per capita (USD): 5354.68",
          "<b>Country: Niger</b><br><br>Floods death toll (2001-2023): 116<br>Rank: top 42 in deaths<br><br>GDP per capita (USD): 460.0",
          "<b>Country: Turkey</b><br><br>Floods death toll (2001-2023): 115<br>Rank: top 43 in deaths<br><br>GDP per capita (USD): 10562.42",
          "<b>Country: Italy</b><br><br>Floods death toll (2001-2023): 99<br>Rank: top 44 in deaths<br><br>GDP per capita (USD): 34272.27",
          "<b>Country: Romania</b><br><br>Floods death toll (2001-2023): 90<br>Rank: top 45 in deaths<br><br>GDP per capita (USD): 8602.29",
          "<b>Country: Tanzania</b><br><br>Floods death toll (2001-2023): 88<br>Rank: top 46 in deaths<br><br>GDP per capita (USD): 762.42",
          "<b>Country: Ghana</b><br><br>Floods death toll (2001-2023): 86<br>Rank: top 47 in deaths<br><br>GDP per capita (USD): 1871.42",
          "<b>Country: Namibia</b><br><br>Floods death toll (2001-2023): 85<br>Rank: top 48 in deaths<br><br>GDP per capita (USD): 5778.8",
          "<b>Country: South Korea</b><br><br>Floods death toll (2001-2023): 79<br>Rank: top 49 in deaths<br><br>GDP per capita (USD): 24740.49",
          "<b>Country: France</b><br><br>Floods death toll (2001-2023): 64<br>Rank: top 50 in deaths<br><br>GDP per capita (USD): 42289.15",
          "<b>Country: Austria</b><br><br>Floods death toll (2001-2023): 62<br>Rank: top 51 in deaths<br><br>GDP per capita (USD): 50932.36",
          "<b>Country: Germany</b><br><br>Floods death toll (2001-2023): 62<br>Rank: top 51 in deaths<br><br>GDP per capita (USD): 43922.99",
          "<b>Country: Australia</b><br><br>Floods death toll (2001-2023): 57<br>Rank: top 53 in deaths<br><br>GDP per capita (USD): 69158.63",
          "<b>Country: Madagascar</b><br><br>Floods death toll (2001-2023): 56<br>Rank: top 54 in deaths<br><br>GDP per capita (USD): 494.79",
          "<b>Country: Malawi</b><br><br>Floods death toll (2001-2023): 56<br>Rank: top 54 in deaths<br><br>GDP per capita (USD): 238.42",
          "<b>Country: Portugal</b><br><br>Floods death toll (2001-2023): 55<br>Rank: top 56 in deaths<br><br>GDP per capita (USD): 20541.4",
          "<b>Country: Burkina Faso</b><br><br>Floods death toll (2001-2023): 51<br>Rank: top 57 in deaths<br><br>GDP per capita (USD): 746.84",
          "<b>Country: Democratic Republic of the Congo</b><br><br>Floods death toll (2001-2023): 50<br>Rank: top 58 in deaths<br><br>GDP per capita (USD): 261.72",
          "<b>Country: United Kingdom</b><br><br>Floods death toll (2001-2023): 48<br>Rank: top 59 in deaths<br><br>GDP per capita (USD): 39936.84",
          "<b>Country: Czech Republic</b><br><br>Floods death toll (2001-2023): 48<br>Rank: top 59 in deaths<br><br>GDP per capita (USD): 18594.88",
          "<b>Country: Chile</b><br><br>Floods death toll (2001-2023): 43<br>Rank: top 62 in deaths<br><br>GDP per capita (USD): 16821.43",
          "<b>Country: Zambia</b><br><br>Floods death toll (2001-2023): 43<br>Rank: top 62 in deaths<br><br>GDP per capita (USD): 1652.27",
          "<b>Country: Angola</b><br><br>Floods death toll (2001-2023): 43<br>Rank: top 62 in deaths<br><br>GDP per capita (USD): 9488.71",
          "<b>Country: Singapore</b><br><br>Floods death toll (2001-2023): 39<br>Rank: top 64 in deaths<br><br>GDP per capita (USD): 62900.59",
          "<b>Country: Croatia</b><br><br>Floods death toll (2001-2023): 37<br>Rank: top 65 in deaths<br><br>GDP per capita (USD): 13168.56",
          "<b>Country: Switzerland</b><br><br>Floods death toll (2001-2023): 37<br>Rank: top 65 in deaths<br><br>GDP per capita (USD): 85239.41",
          "<b>Country: Togo</b><br><br>Floods death toll (2001-2023): 35<br>Rank: top 67 in deaths<br><br>GDP per capita (USD): 652.63",
          "<b>Country: Poland</b><br><br>Floods death toll (2001-2023): 28<br>Rank: top 68 in deaths<br><br>GDP per capita (USD): 13348.05",
          "<b>Country: Bulgaria</b><br><br>Floods death toll (2001-2023): 28<br>Rank: top 68 in deaths<br><br>GDP per capita (USD): 7511.77",
          "<b>Country: Spain</b><br><br>Floods death toll (2001-2023): 26<br>Rank: top 70 in deaths<br><br>GDP per capita (USD): 29157.55",
          "<b>Country: Egypt</b><br><br>Floods death toll (2001-2023): 26<br>Rank: top 70 in deaths<br><br>GDP per capita (USD): 3255.8",
          "<b>Country: Netherlands</b><br><br>Floods death toll (2001-2023): 22<br>Rank: top 72 in deaths<br><br>GDP per capita (USD): 43394.41",
          "<b>Country: Belgium</b><br><br>Floods death toll (2001-2023): 22<br>Rank: top 72 in deaths<br><br>GDP per capita (USD): 48774.39",
          "<b>Country: Macedonia</b><br><br>Floods death toll (2001-2023): 21<br>Rank: top 74 in deaths<br><br>GDP per capita (USD): 5164.15",
          "<b>Country: Serbia</b><br><br>Floods death toll (2001-2023): 20<br>Rank: top 76 in deaths<br><br>GDP per capita (USD): 5947.03",
          "<b>Country: Georgia</b><br><br>Floods death toll (2001-2023): 20<br>Rank: top 76 in deaths<br><br>GDP per capita (USD): 3444.92",
          "<b>Country: Slovakia</b><br><br>Floods death toll (2001-2023): 20<br>Rank: top 76 in deaths<br><br>GDP per capita (USD): 17774.52",
          "<b>Country: Luxembourg</b><br><br>Floods death toll (2001-2023): 20<br>Rank: top 76 in deaths<br><br>GDP per capita (USD): 121679.15",
          "<b>Country: Bosnia and Herzegovina</b><br><br>Floods death toll (2001-2023): 17<br>Rank: top 79 in deaths<br><br>GDP per capita (USD): 4111.11",
          "<b>Country: Liberia</b><br><br>Floods death toll (2001-2023): 16<br>Rank: top 84 in deaths<br><br>GDP per capita (USD): 536.49",
          "<b>Country: Mali</b><br><br>Floods death toll (2001-2023): 16<br>Rank: top 84 in deaths<br><br>GDP per capita (USD): 824.13",
          "<b>Country: Benin</b><br><br>Floods death toll (2001-2023): 16<br>Rank: top 84 in deaths<br><br>GDP per capita (USD): 923.03",
          "<b>Country: Gambia</b><br><br>Floods death toll (2001-2023): 16<br>Rank: top 84 in deaths<br><br>GDP per capita (USD): 562.37",
          "<b>Country: Ivory Coast</b><br><br>Floods death toll (2001-2023): 16<br>Rank: top 84 in deaths<br><br>GDP per capita (USD): 1342.91",
          "<b>Country: Guinea</b><br><br>Floods death toll (2001-2023): 16<br>Rank: top 84 in deaths<br><br>GDP per capita (USD): 633.86",
          "<b>Country: Mauritania</b><br><br>Floods death toll (2001-2023): 16<br>Rank: top 84 in deaths<br><br>GDP per capita (USD): 1305.12",
          "<b>Country: Sierra Leone</b><br><br>Floods death toll (2001-2023): 16<br>Rank: top 84 in deaths<br><br>GDP per capita (USD): 878.24",
          "<b>Country: Senegal</b><br><br>Floods death toll (2001-2023): 16<br>Rank: top 84 in deaths<br><br>GDP per capita (USD): 1246.42",
          "<b>Country: Hungary</b><br><br>Floods death toll (2001-2023): 10<br>Rank: top 89 in deaths<br><br>GDP per capita (USD): 13083.55",
          "<b>Country: Ireland</b><br><br>Floods death toll (2001-2023): 4<br>Rank: top 90 in deaths<br><br>GDP per capita (USD): 47783.68",
          "<b>Country: Moldova</b><br><br>Floods death toll (2001-2023): 2<br>Rank: top 91 in deaths<br><br>GDP per capita (USD): 1834.41"
         ],
         "type": "scattergeo"
        }
       ],
       "layout": {
        "annotations": [
         {
          "showarrow": false,
          "text": "Source: <a href=\"https://en.wikipedia.org/wiki/List_of_deadliest_floods\">Wikipedia</a> and <a href=\"https://countrycode.org\">CountryCode</a>",
          "x": 0.5,
          "xref": "paper",
          "y": 0.1,
          "yref": "paper"
         }
        ],
        "font": {
         "color": "#525252",
         "family": "Arial",
         "size": 12
        },
        "geo": {
         "lataxis": {
          "range": [
           -60,
           90
          ]
         },
         "projection": {
          "type": "equirectangular"
         },
         "showcoastlines": false,
         "showframe": false
        },
        "height": 620,
        "template": {
         "data": {
          "bar": [
           {
            "error_x": {
             "color": "#2a3f5f"
            },
            "error_y": {
             "color": "#2a3f5f"
            },
            "marker": {
             "line": {
              "color": "#E5ECF6",
              "width": 0.5
             },
             "pattern": {
              "fillmode": "overlay",
              "size": 10,
              "solidity": 0.2
             }
            },
            "type": "bar"
           }
          ],
          "barpolar": [
           {
            "marker": {
             "line": {
              "color": "#E5ECF6",
              "width": 0.5
             },
             "pattern": {
              "fillmode": "overlay",
              "size": 10,
              "solidity": 0.2
             }
            },
            "type": "barpolar"
           }
          ],
          "carpet": [
           {
            "aaxis": {
             "endlinecolor": "#2a3f5f",
             "gridcolor": "white",
             "linecolor": "white",
             "minorgridcolor": "white",
             "startlinecolor": "#2a3f5f"
            },
            "baxis": {
             "endlinecolor": "#2a3f5f",
             "gridcolor": "white",
             "linecolor": "white",
             "minorgridcolor": "white",
             "startlinecolor": "#2a3f5f"
            },
            "type": "carpet"
           }
          ],
          "choropleth": [
           {
            "colorbar": {
             "outlinewidth": 0,
             "ticks": ""
            },
            "type": "choropleth"
           }
          ],
          "contour": [
           {
            "colorbar": {
             "outlinewidth": 0,
             "ticks": ""
            },
            "colorscale": [
             [
              0,
              "#0d0887"
             ],
             [
              0.1111111111111111,
              "#46039f"
             ],
             [
              0.2222222222222222,
              "#7201a8"
             ],
             [
              0.3333333333333333,
              "#9c179e"
             ],
             [
              0.4444444444444444,
              "#bd3786"
             ],
             [
              0.5555555555555556,
              "#d8576b"
             ],
             [
              0.6666666666666666,
              "#ed7953"
             ],
             [
              0.7777777777777778,
              "#fb9f3a"
             ],
             [
              0.8888888888888888,
              "#fdca26"
             ],
             [
              1,
              "#f0f921"
             ]
            ],
            "type": "contour"
           }
          ],
          "contourcarpet": [
           {
            "colorbar": {
             "outlinewidth": 0,
             "ticks": ""
            },
            "type": "contourcarpet"
           }
          ],
          "heatmap": [
           {
            "colorbar": {
             "outlinewidth": 0,
             "ticks": ""
            },
            "colorscale": [
             [
              0,
              "#0d0887"
             ],
             [
              0.1111111111111111,
              "#46039f"
             ],
             [
              0.2222222222222222,
              "#7201a8"
             ],
             [
              0.3333333333333333,
              "#9c179e"
             ],
             [
              0.4444444444444444,
              "#bd3786"
             ],
             [
              0.5555555555555556,
              "#d8576b"
             ],
             [
              0.6666666666666666,
              "#ed7953"
             ],
             [
              0.7777777777777778,
              "#fb9f3a"
             ],
             [
              0.8888888888888888,
              "#fdca26"
             ],
             [
              1,
              "#f0f921"
             ]
            ],
            "type": "heatmap"
           }
          ],
          "heatmapgl": [
           {
            "colorbar": {
             "outlinewidth": 0,
             "ticks": ""
            },
            "colorscale": [
             [
              0,
              "#0d0887"
             ],
             [
              0.1111111111111111,
              "#46039f"
             ],
             [
              0.2222222222222222,
              "#7201a8"
             ],
             [
              0.3333333333333333,
              "#9c179e"
             ],
             [
              0.4444444444444444,
              "#bd3786"
             ],
             [
              0.5555555555555556,
              "#d8576b"
             ],
             [
              0.6666666666666666,
              "#ed7953"
             ],
             [
              0.7777777777777778,
              "#fb9f3a"
             ],
             [
              0.8888888888888888,
              "#fdca26"
             ],
             [
              1,
              "#f0f921"
             ]
            ],
            "type": "heatmapgl"
           }
          ],
          "histogram": [
           {
            "marker": {
             "pattern": {
              "fillmode": "overlay",
              "size": 10,
              "solidity": 0.2
             }
            },
            "type": "histogram"
           }
          ],
          "histogram2d": [
           {
            "colorbar": {
             "outlinewidth": 0,
             "ticks": ""
            },
            "colorscale": [
             [
              0,
              "#0d0887"
             ],
             [
              0.1111111111111111,
              "#46039f"
             ],
             [
              0.2222222222222222,
              "#7201a8"
             ],
             [
              0.3333333333333333,
              "#9c179e"
             ],
             [
              0.4444444444444444,
              "#bd3786"
             ],
             [
              0.5555555555555556,
              "#d8576b"
             ],
             [
              0.6666666666666666,
              "#ed7953"
             ],
             [
              0.7777777777777778,
              "#fb9f3a"
             ],
             [
              0.8888888888888888,
              "#fdca26"
             ],
             [
              1,
              "#f0f921"
             ]
            ],
            "type": "histogram2d"
           }
          ],
          "histogram2dcontour": [
           {
            "colorbar": {
             "outlinewidth": 0,
             "ticks": ""
            },
            "colorscale": [
             [
              0,
              "#0d0887"
             ],
             [
              0.1111111111111111,
              "#46039f"
             ],
             [
              0.2222222222222222,
              "#7201a8"
             ],
             [
              0.3333333333333333,
              "#9c179e"
             ],
             [
              0.4444444444444444,
              "#bd3786"
             ],
             [
              0.5555555555555556,
              "#d8576b"
             ],
             [
              0.6666666666666666,
              "#ed7953"
             ],
             [
              0.7777777777777778,
              "#fb9f3a"
             ],
             [
              0.8888888888888888,
              "#fdca26"
             ],
             [
              1,
              "#f0f921"
             ]
            ],
            "type": "histogram2dcontour"
           }
          ],
          "mesh3d": [
           {
            "colorbar": {
             "outlinewidth": 0,
             "ticks": ""
            },
            "type": "mesh3d"
           }
          ],
          "parcoords": [
           {
            "line": {
             "colorbar": {
              "outlinewidth": 0,
              "ticks": ""
             }
            },
            "type": "parcoords"
           }
          ],
          "pie": [
           {
            "automargin": true,
            "type": "pie"
           }
          ],
          "scatter": [
           {
            "fillpattern": {
             "fillmode": "overlay",
             "size": 10,
             "solidity": 0.2
            },
            "type": "scatter"
           }
          ],
          "scatter3d": [
           {
            "line": {
             "colorbar": {
              "outlinewidth": 0,
              "ticks": ""
             }
            },
            "marker": {
             "colorbar": {
              "outlinewidth": 0,
              "ticks": ""
             }
            },
            "type": "scatter3d"
           }
          ],
          "scattercarpet": [
           {
            "marker": {
             "colorbar": {
              "outlinewidth": 0,
              "ticks": ""
             }
            },
            "type": "scattercarpet"
           }
          ],
          "scattergeo": [
           {
            "marker": {
             "colorbar": {
              "outlinewidth": 0,
              "ticks": ""
             }
            },
            "type": "scattergeo"
           }
          ],
          "scattergl": [
           {
            "marker": {
             "colorbar": {
              "outlinewidth": 0,
              "ticks": ""
             }
            },
            "type": "scattergl"
           }
          ],
          "scattermapbox": [
           {
            "marker": {
             "colorbar": {
              "outlinewidth": 0,
              "ticks": ""
             }
            },
            "type": "scattermapbox"
           }
          ],
          "scatterpolar": [
           {
            "marker": {
             "colorbar": {
              "outlinewidth": 0,
              "ticks": ""
             }
            },
            "type": "scatterpolar"
           }
          ],
          "scatterpolargl": [
           {
            "marker": {
             "colorbar": {
              "outlinewidth": 0,
              "ticks": ""
             }
            },
            "type": "scatterpolargl"
           }
          ],
          "scatterternary": [
           {
            "marker": {
             "colorbar": {
              "outlinewidth": 0,
              "ticks": ""
             }
            },
            "type": "scatterternary"
           }
          ],
          "surface": [
           {
            "colorbar": {
             "outlinewidth": 0,
             "ticks": ""
            },
            "colorscale": [
             [
              0,
              "#0d0887"
             ],
             [
              0.1111111111111111,
              "#46039f"
             ],
             [
              0.2222222222222222,
              "#7201a8"
             ],
             [
              0.3333333333333333,
              "#9c179e"
             ],
             [
              0.4444444444444444,
              "#bd3786"
             ],
             [
              0.5555555555555556,
              "#d8576b"
             ],
             [
              0.6666666666666666,
              "#ed7953"
             ],
             [
              0.7777777777777778,
              "#fb9f3a"
             ],
             [
              0.8888888888888888,
              "#fdca26"
             ],
             [
              1,
              "#f0f921"
             ]
            ],
            "type": "surface"
           }
          ],
          "table": [
           {
            "cells": {
             "fill": {
              "color": "#EBF0F8"
             },
             "line": {
              "color": "white"
             }
            },
            "header": {
             "fill": {
              "color": "#C8D4E3"
             },
             "line": {
              "color": "white"
             }
            },
            "type": "table"
           }
          ]
         },
         "layout": {
          "annotationdefaults": {
           "arrowcolor": "#2a3f5f",
           "arrowhead": 0,
           "arrowwidth": 1
          },
          "autotypenumbers": "strict",
          "coloraxis": {
           "colorbar": {
            "outlinewidth": 0,
            "ticks": ""
           }
          },
          "colorscale": {
           "diverging": [
            [
             0,
             "#8e0152"
            ],
            [
             0.1,
             "#c51b7d"
            ],
            [
             0.2,
             "#de77ae"
            ],
            [
             0.3,
             "#f1b6da"
            ],
            [
             0.4,
             "#fde0ef"
            ],
            [
             0.5,
             "#f7f7f7"
            ],
            [
             0.6,
             "#e6f5d0"
            ],
            [
             0.7,
             "#b8e186"
            ],
            [
             0.8,
             "#7fbc41"
            ],
            [
             0.9,
             "#4d9221"
            ],
            [
             1,
             "#276419"
            ]
           ],
           "sequential": [
            [
             0,
             "#0d0887"
            ],
            [
             0.1111111111111111,
             "#46039f"
            ],
            [
             0.2222222222222222,
             "#7201a8"
            ],
            [
             0.3333333333333333,
             "#9c179e"
            ],
            [
             0.4444444444444444,
             "#bd3786"
            ],
            [
             0.5555555555555556,
             "#d8576b"
            ],
            [
             0.6666666666666666,
             "#ed7953"
            ],
            [
             0.7777777777777778,
             "#fb9f3a"
            ],
            [
             0.8888888888888888,
             "#fdca26"
            ],
            [
             1,
             "#f0f921"
            ]
           ],
           "sequentialminus": [
            [
             0,
             "#0d0887"
            ],
            [
             0.1111111111111111,
             "#46039f"
            ],
            [
             0.2222222222222222,
             "#7201a8"
            ],
            [
             0.3333333333333333,
             "#9c179e"
            ],
            [
             0.4444444444444444,
             "#bd3786"
            ],
            [
             0.5555555555555556,
             "#d8576b"
            ],
            [
             0.6666666666666666,
             "#ed7953"
            ],
            [
             0.7777777777777778,
             "#fb9f3a"
            ],
            [
             0.8888888888888888,
             "#fdca26"
            ],
            [
             1,
             "#f0f921"
            ]
           ]
          },
          "colorway": [
           "#636efa",
           "#EF553B",
           "#00cc96",
           "#ab63fa",
           "#FFA15A",
           "#19d3f3",
           "#FF6692",
           "#B6E880",
           "#FF97FF",
           "#FECB52"
          ],
          "font": {
           "color": "#2a3f5f"
          },
          "geo": {
           "bgcolor": "white",
           "lakecolor": "white",
           "landcolor": "#E5ECF6",
           "showlakes": true,
           "showland": true,
           "subunitcolor": "white"
          },
          "hoverlabel": {
           "align": "left"
          },
          "hovermode": "closest",
          "mapbox": {
           "style": "light"
          },
          "paper_bgcolor": "white",
          "plot_bgcolor": "#E5ECF6",
          "polar": {
           "angularaxis": {
            "gridcolor": "white",
            "linecolor": "white",
            "ticks": ""
           },
           "bgcolor": "#E5ECF6",
           "radialaxis": {
            "gridcolor": "white",
            "linecolor": "white",
            "ticks": ""
           }
          },
          "scene": {
           "xaxis": {
            "backgroundcolor": "#E5ECF6",
            "gridcolor": "white",
            "gridwidth": 2,
            "linecolor": "white",
            "showbackground": true,
            "ticks": "",
            "zerolinecolor": "white"
           },
           "yaxis": {
            "backgroundcolor": "#E5ECF6",
            "gridcolor": "white",
            "gridwidth": 2,
            "linecolor": "white",
            "showbackground": true,
            "ticks": "",
            "zerolinecolor": "white"
           },
           "zaxis": {
            "backgroundcolor": "#E5ECF6",
            "gridcolor": "white",
            "gridwidth": 2,
            "linecolor": "white",
            "showbackground": true,
            "ticks": "",
            "zerolinecolor": "white"
           }
          },
          "shapedefaults": {
           "line": {
            "color": "#2a3f5f"
           }
          },
          "ternary": {
           "aaxis": {
            "gridcolor": "white",
            "linecolor": "white",
            "ticks": ""
           },
           "baxis": {
            "gridcolor": "white",
            "linecolor": "white",
            "ticks": ""
           },
           "bgcolor": "#E5ECF6",
           "caxis": {
            "gridcolor": "white",
            "linecolor": "white",
            "ticks": ""
           }
          },
          "title": {
           "x": 0.05
          },
          "xaxis": {
           "automargin": true,
           "gridcolor": "white",
           "linecolor": "white",
           "ticks": "",
           "title": {
            "standoff": 15
           },
           "zerolinecolor": "white",
           "zerolinewidth": 2
          },
          "yaxis": {
           "automargin": true,
           "gridcolor": "white",
           "linecolor": "white",
           "ticks": "",
           "title": {
            "standoff": 15
           },
           "zerolinecolor": "white",
           "zerolinewidth": 2
          }
         }
        },
        "title": {
         "font": {
          "color": "#525252",
          "size": 18
         },
         "text": "<b>World GDP per capita and victims of floods during 21st century</b>",
         "x": 0.5,
         "xanchor": "center",
         "y": 0.9,
         "yanchor": "top"
        },
        "width": 1000
       }
      },
      "text/html": [
       "<div>                            <div id=\"9a28b20f-ce53-4623-b2ba-bee538c9ea89\" class=\"plotly-graph-div\" style=\"height:620px; width:1000px;\"></div>            <script type=\"text/javascript\">                require([\"plotly\"], function(Plotly) {                    window.PLOTLYENV=window.PLOTLYENV || {};                                    if (document.getElementById(\"9a28b20f-ce53-4623-b2ba-bee538c9ea89\")) {                    Plotly.newPlot(                        \"9a28b20f-ce53-4623-b2ba-bee538c9ea89\",                        [{\"autocolorscale\":false,\"colorbar\":{\"title\":{\"text\":\"GDP per <br>capita (USD)\"}},\"colorscale\":[[0.0,\"rgb(247,251,255)\"],[0.125,\"rgb(222,235,247)\"],[0.25,\"rgb(198,219,239)\"],[0.375,\"rgb(158,202,225)\"],[0.5,\"rgb(107,174,214)\"],[0.625,\"rgb(66,146,198)\"],[0.75,\"rgb(33,113,181)\"],[0.875,\"rgb(8,81,156)\"],[1.0,\"rgb(8,48,107)\"]],\"hoverinfo\":\"skip\",\"locations\":[\"AFG\",\"ALB\",\"DZA\",\"ASM\",\"AND\",\"AGO\",\"AIA\",\"ATG\",\"ARG\",\"ARM\",\"ABW\",\"AUS\",\"AUT\",\"AZE\",\"BHS\",\"BHR\",\"BGD\",\"BRB\",\"BLR\",\"BEL\",\"BLZ\",\"BEN\",\"BMU\",\"BTN\",\"BOL\",\"BIH\",\"BWA\",\"BRA\",\"VGB\",\"BRN\",\"BGR\",\"BFA\",\"BDI\",\"KHM\",\"CMR\",\"CAN\",\"CPV\",\"CYM\",\"CAF\",\"TCD\",\"CHL\",\"CHN\",\"COL\",\"COM\",\"COK\",\"CRI\",\"HRV\",\"CUB\",\"CUW\",\"CYP\",\"CZE\",\"COD\",\"DNK\",\"DJI\",\"DMA\",\"DOM\",\"TLS\",\"ECU\",\"EGY\",\"SLV\",\"GNQ\",\"ERI\",\"EST\",\"ETH\",\"FLK\",\"FRO\",\"FJI\",\"FIN\",\"FRA\",\"PYF\",\"GAB\",\"GMB\",\"GEO\",\"DEU\",\"GHA\",\"GIB\",\"GRC\",\"GRL\",\"GRD\",\"GUM\",\"GTM\",\"GGY\",\"GIN\",\"GNB\",\"GUY\",\"HTI\",\"HND\",\"HKG\",\"HUN\",\"ISL\",\"IND\",\"IDN\",\"IRN\",\"IRQ\",\"IRL\",\"IMN\",\"ISR\",\"ITA\",\"CIV\",\"JAM\",\"JPN\",\"JEY\",\"JOR\",\"KAZ\",\"KEN\",\"KIR\",\"XKX\",\"KWT\",\"KGZ\",\"LAO\",\"LVA\",\"LBN\",\"LSO\",\"LBR\",\"LBY\",\"LIE\",\"LTU\",\"LUX\",\"MAC\",\"MKD\",\"MDG\",\"MWI\",\"MYS\",\"MDV\",\"MLI\",\"MLT\",\"MHL\",\"MRT\",\"MUS\",\"MEX\",\"FSM\",\"MDA\",\"MCO\",\"MNG\",\"MNE\",\"MAR\",\"MOZ\",\"MMR\",\"NAM\",\"NPL\",\"NLD\",\"NCL\",\"NZL\",\"NIC\",\"NER\",\"NGA\",\"NIU\",\"PRK\",\"MNP\",\"NOR\",\"OMN\",\"PAK\",\"PLW\",\"PSE\",\"PAN\",\"PNG\",\"PRY\",\"PER\",\"PHL\",\"POL\",\"PRT\",\"PRI\",\"QAT\",\"COG\",\"ROU\",\"RUS\",\"RWA\",\"KNA\",\"LCA\",\"MAF\",\"SPM\",\"VCT\",\"WSM\",\"SMR\",\"STP\",\"SAU\",\"SEN\",\"SRB\",\"SYC\",\"SLE\",\"SGP\",\"SXM\",\"SVK\",\"SVN\",\"SLB\",\"SOM\",\"ZAF\",\"KOR\",\"SSD\",\"ESP\",\"LKA\",\"SDN\",\"SUR\",\"SWZ\",\"SWE\",\"CHE\",\"SYR\",\"TWN\",\"TJK\",\"TZA\",\"THA\",\"TGO\",\"TON\",\"TTO\",\"TUN\",\"TUR\",\"TKM\",\"TUV\",\"UGA\",\"UKR\",\"ARE\",\"GBR\",\"USA\",\"URY\",\"UZB\",\"VUT\",\"VEN\",\"VNM\",\"YEM\",\"ZMB\",\"ZWE\"],\"marker\":{\"line\":{\"color\":\"darkgray\",\"width\":0.5}},\"reversescale\":false,\"text\":[\"GDP per capita (USD) of Afghanistan\",\"GDP per capita (USD) of Albania\",\"GDP per capita (USD) of Algeria\",\"GDP per capita (USD) of American Samoa\",\"GDP per capita (USD) of Andorra\",\"GDP per capita (USD) of Angola\",\"GDP per capita (USD) of Anguilla\",\"GDP per capita (USD) of Antigua and Barbuda\",\"GDP per capita (USD) of Argentina\",\"GDP per capita (USD) of Armenia\",\"GDP per capita (USD) of Aruba\",\"GDP per capita (USD) of Australia\",\"GDP per capita (USD) of Austria\",\"GDP per capita (USD) of Azerbaijan\",\"GDP per capita (USD) of Bahamas\",\"GDP per capita (USD) of Bahrain\",\"GDP per capita (USD) of Bangladesh\",\"GDP per capita (USD) of Barbados\",\"GDP per capita (USD) of Belarus\",\"GDP per capita (USD) of Belgium\",\"GDP per capita (USD) of Belize\",\"GDP per capita (USD) of Benin\",\"GDP per capita (USD) of Bermuda\",\"GDP per capita (USD) of Bhutan\",\"GDP per capita (USD) of Bolivia\",\"GDP per capita (USD) of Bosnia and Herzegovina\",\"GDP per capita (USD) of Botswana\",\"GDP per capita (USD) of Brazil\",\"GDP per capita (USD) of British Virgin Islands\",\"GDP per capita (USD) of Brunei\",\"GDP per capita (USD) of Bulgaria\",\"GDP per capita (USD) of Burkina Faso\",\"GDP per capita (USD) of Burundi\",\"GDP per capita (USD) of Cambodia\",\"GDP per capita (USD) of Cameroon\",\"GDP per capita (USD) of Canada\",\"GDP per capita (USD) of Cape Verde\",\"GDP per capita (USD) of Cayman Islands\",\"GDP per capita (USD) of Central African Republic\",\"GDP per capita (USD) of Chad\",\"GDP per capita (USD) of Chile\",\"GDP per capita (USD) of China\",\"GDP per capita (USD) of Colombia\",\"GDP per capita (USD) of Comoros\",\"GDP per capita (USD) of Cook Islands\",\"GDP per capita (USD) of Costa Rica\",\"GDP per capita (USD) of Croatia\",\"GDP per capita (USD) of Cuba\",\"GDP per capita (USD) of Curacao\",\"GDP per capita (USD) of Cyprus\",\"GDP per capita (USD) of Czech Republic\",\"GDP per capita (USD) of Democratic Republic of the Congo\",\"GDP per capita (USD) of Denmark\",\"GDP per capita (USD) of Djibouti\",\"GDP per capita (USD) of Dominica\",\"GDP per capita (USD) of Dominican Republic\",\"GDP per capita (USD) of East Timor\",\"GDP per capita (USD) of Ecuador\",\"GDP per capita (USD) of Egypt\",\"GDP per capita (USD) of El Salvador\",\"GDP per capita (USD) of Equatorial Guinea\",\"GDP per capita (USD) of Eritrea\",\"GDP per capita (USD) of Estonia\",\"GDP per capita (USD) of Ethiopia\",\"GDP per capita (USD) of Falkland Islands\",\"GDP per capita (USD) of Faroe Islands\",\"GDP per capita (USD) of Fiji\",\"GDP per capita (USD) of Finland\",\"GDP per capita (USD) of France\",\"GDP per capita (USD) of French Polynesia\",\"GDP per capita (USD) of Gabon\",\"GDP per capita (USD) of Gambia\",\"GDP per capita (USD) of Georgia\",\"GDP per capita (USD) of Germany\",\"GDP per capita (USD) of Ghana\",\"GDP per capita (USD) of Gibraltar\",\"GDP per capita (USD) of Greece\",\"GDP per capita (USD) of Greenland\",\"GDP per capita (USD) of Grenada\",\"GDP per capita (USD) of Guam\",\"GDP per capita (USD) of Guatemala\",\"GDP per capita (USD) of Guernsey\",\"GDP per capita (USD) of Guinea\",\"GDP per capita (USD) of Guinea-Bissau\",\"GDP per capita (USD) of Guyana\",\"GDP per capita (USD) of Haiti\",\"GDP per capita (USD) of Honduras\",\"GDP per capita (USD) of Hong Kong\",\"GDP per capita (USD) of Hungary\",\"GDP per capita (USD) of Iceland\",\"GDP per capita (USD) of India\",\"GDP per capita (USD) of Indonesia\",\"GDP per capita (USD) of Iran\",\"GDP per capita (USD) of Iraq\",\"GDP per capita (USD) of Ireland\",\"GDP per capita (USD) of Isle of Man\",\"GDP per capita (USD) of Israel\",\"GDP per capita (USD) of Italy\",\"GDP per capita (USD) of Ivory Coast\",\"GDP per capita (USD) of Jamaica\",\"GDP per capita (USD) of Japan\",\"GDP per capita (USD) of Jersey\",\"GDP per capita (USD) of Jordan\",\"GDP per capita (USD) of Kazakhstan\",\"GDP per capita (USD) of Kenya\",\"GDP per capita (USD) of Kiribati\",\"GDP per capita (USD) of Kosovo\",\"GDP per capita (USD) of Kuwait\",\"GDP per capita (USD) of Kyrgyzstan\",\"GDP per capita (USD) of Laos\",\"GDP per capita (USD) of Latvia\",\"GDP per capita (USD) of Lebanon\",\"GDP per capita (USD) of Lesotho\",\"GDP per capita (USD) of Liberia\",\"GDP per capita (USD) of Libya\",\"GDP per capita (USD) of Liechtenstein\",\"GDP per capita (USD) of Lithuania\",\"GDP per capita (USD) of Luxembourg\",\"GDP per capita (USD) of Macau\",\"GDP per capita (USD) of Macedonia\",\"GDP per capita (USD) of Madagascar\",\"GDP per capita (USD) of Malawi\",\"GDP per capita (USD) of Malaysia\",\"GDP per capita (USD) of Maldives\",\"GDP per capita (USD) of Mali\",\"GDP per capita (USD) of Malta\",\"GDP per capita (USD) of Marshall Islands\",\"GDP per capita (USD) of Mauritania\",\"GDP per capita (USD) of Mauritius\",\"GDP per capita (USD) of Mexico\",\"GDP per capita (USD) of Micronesia\",\"GDP per capita (USD) of Moldova\",\"GDP per capita (USD) of Monaco\",\"GDP per capita (USD) of Mongolia\",\"GDP per capita (USD) of Montenegro\",\"GDP per capita (USD) of Morocco\",\"GDP per capita (USD) of Mozambique\",\"GDP per capita (USD) of Myanmar\",\"GDP per capita (USD) of Namibia\",\"GDP per capita (USD) of Nepal\",\"GDP per capita (USD) of Netherlands\",\"GDP per capita (USD) of New Caledonia\",\"GDP per capita (USD) of New Zealand\",\"GDP per capita (USD) of Nicaragua\",\"GDP per capita (USD) of Niger\",\"GDP per capita (USD) of Nigeria\",\"GDP per capita (USD) of Niue\",\"GDP per capita (USD) of North Korea\",\"GDP per capita (USD) of Northern Mariana Islands\",\"GDP per capita (USD) of Norway\",\"GDP per capita (USD) of Oman\",\"GDP per capita (USD) of Pakistan\",\"GDP per capita (USD) of Palau\",\"GDP per capita (USD) of Palestine\",\"GDP per capita (USD) of Panama\",\"GDP per capita (USD) of Papua New Guinea\",\"GDP per capita (USD) of Paraguay\",\"GDP per capita (USD) of Peru\",\"GDP per capita (USD) of Philippines\",\"GDP per capita (USD) of Poland\",\"GDP per capita (USD) of Portugal\",\"GDP per capita (USD) of Puerto Rico\",\"GDP per capita (USD) of Qatar\",\"GDP per capita (USD) of Republic of the Congo\",\"GDP per capita (USD) of Romania\",\"GDP per capita (USD) of Russia\",\"GDP per capita (USD) of Rwanda\",\"GDP per capita (USD) of Saint Kitts and Nevis\",\"GDP per capita (USD) of Saint Lucia\",\"GDP per capita (USD) of Saint Martin\",\"GDP per capita (USD) of Saint Pierre and Miquelon\",\"GDP per capita (USD) of Saint Vincent and the Grenadines\",\"GDP per capita (USD) of Samoa\",\"GDP per capita (USD) of San Marino\",\"GDP per capita (USD) of Sao Tome and Principe\",\"GDP per capita (USD) of Saudi Arabia\",\"GDP per capita (USD) of Senegal\",\"GDP per capita (USD) of Serbia\",\"GDP per capita (USD) of Seychelles\",\"GDP per capita (USD) of Sierra Leone\",\"GDP per capita (USD) of Singapore\",\"GDP per capita (USD) of Sint Maarten\",\"GDP per capita (USD) of Slovakia\",\"GDP per capita (USD) of Slovenia\",\"GDP per capita (USD) of Solomon Islands\",\"GDP per capita (USD) of Somalia\",\"GDP per capita (USD) of South Africa\",\"GDP per capita (USD) of South Korea\",\"GDP per capita (USD) of South Sudan\",\"GDP per capita (USD) of Spain\",\"GDP per capita (USD) of Sri Lanka\",\"GDP per capita (USD) of Sudan\",\"GDP per capita (USD) of Suriname\",\"GDP per capita (USD) of Swaziland\",\"GDP per capita (USD) of Sweden\",\"GDP per capita (USD) of Switzerland\",\"GDP per capita (USD) of Syria\",\"GDP per capita (USD) of Taiwan\",\"GDP per capita (USD) of Tajikistan\",\"GDP per capita (USD) of Tanzania\",\"GDP per capita (USD) of Thailand\",\"GDP per capita (USD) of Togo\",\"GDP per capita (USD) of Tonga\",\"GDP per capita (USD) of Trinidad and Tobago\",\"GDP per capita (USD) of Tunisia\",\"GDP per capita (USD) of Turkey\",\"GDP per capita (USD) of Turkmenistan\",\"GDP per capita (USD) of Tuvalu\",\"GDP per capita (USD) of Uganda\",\"GDP per capita (USD) of Ukraine\",\"GDP per capita (USD) of United Arab Emirates\",\"GDP per capita (USD) of United Kingdom\",\"GDP per capita (USD) of United States\",\"GDP per capita (USD) of Uruguay\",\"GDP per capita (USD) of Uzbekistan\",\"GDP per capita (USD) of Vanuatu\",\"GDP per capita (USD) of Venezuela\",\"GDP per capita (USD) of Vietnam\",\"GDP per capita (USD) of Yemen\",\"GDP per capita (USD) of Zambia\",\"GDP per capita (USD) of Zimbabwe\"],\"z\":[709.1032999023463,4285.304886051064,6236.59435802458,7985.349251049567,57142.857142857145,9488.71076810272,13233.740757507168,14062.752149756783,11721.395254324889,3517.520215633423,35156.359164966605,69158.62674391983,50932.35831809872,9153.957987897169,27744.458066867686,38427.97600013008,898.0359940000435,14920.200382982148,7149.199793495096,48774.392002307024,5204.723357984497,923.0334330461208,85672.76065172492,3047.809021114615,3095.2755780444736,4111.111111111111,7652.858833089325,10889.924100212562,50391.16428900138,41921.1851341807,7511.76598540871,746.83789880328,271.31382503117425,1082.0773671480204,1444.9976518788158,54188.069717034356,3843.4393178927335,50824.4861079738,423.122990294797,1288.95019701305,16821.43441273757,7014.805525230744,7725.465578572923,850.7810247385917,8565.550776136151,10741.283639858111,13168.55934090403,6329.335551081152,39501.7140922365,19751.93098250893,18594.883543337153,261.71646887120204,59135.66739606127,1970.2158459909685,6798.2365786329365,6033.293969831087,5308.21695355635,6180.273319392955,3255.79613417454,4076.295293638666,16827.60278581555,593.4765226349667,18804.650046082235,537.8720859964525,62357.84685367703,48104.83536534793,4815.16193807414,49504.19527078567,42289.14818307431,20888.40416289258,12923.43334918832,562.3703911989033,3444.924406047516,43922.993469483365,1871.4175501085915,39664.323626452446,22118.18181818182,38314.85587583148,7521.9351128754015,28865.824119278604,3977.7306124376773,42037.16195498865,633.8613089371636,562.2550516699614,4034.811606362711,858.8522409338078,2363.1267120308557,39442.29379333978,13083.550390703265,47230.584960020715,1423.568822628233,3570.4240019878803,5354.684471415033,7475.160174179995,47783.68289977951,54311.18336020466,37081.935848386966,34272.26978282253,1342.906655925946,5054.03142420428,39335.99396643831,56159.97885741972,5319.111577261734,14661.016949152543,1131.4328424564544,1869.603276668864,3972.222222222222,64356.93972174856,1313.2131315504084,1586.0149286403205,13697.215786153909,10542.399036954635,1279.9861634381355,536.4882569586082,10975.857755854951,146085.7142857143,15863.695164374847,121679.14812536932,115049.48819896794,5164.1521528938165,494.7879516455435,238.42045638452825,11048.73542731391,5737.394161506382,824.130781219444,23674.937965260546,2930.5030443826963,1305.12377303389,9195.551516725085,11798.821993875548,3147.3985219296615,1834.4125809435707,174366.75261641134,3608.7774278422685,6776.356246156615,3313.5795930038953,664.9607951897633,1112.6218571802415,5778.796140515891,668.0056253396156,43394.412736557526,42864.929282104815,42588.94705119163,1877.9411627357767,459.99970651716427,3259.7402597402597,4621.421975992613,1222.0575984551795,13603.548429003582,102971.5620414641,27613.81897263115,1282.504639480869,11101.622544833475,1747.6315789473683,11909.66248333175,2654.78772828495,4793.101447184132,7031.797870217889,2724.7198971429248,13348.051948051949,20541.40127388535,23877.65815118704,253411.12059800743,4688.848043812596,8602.286468617047,15017.554832198548,696.4559257364524,14999.804435405014,8556.940629621804,15629.784272790535,30704.506560182544,7119.75973209745,3671.855875750647,59281.38005527846,1768.9752457226066,27922.67428412248,1246.4242393160507,5947.026534385263,14387.593389178175,878.2439695788642,62900.58707923666,21232.19963130193,17774.518790100825,23328.35077229696,1965.3146112825868,234.5622768283818,7222.448979591837,24740.491246202913,1424.854942019178,29157.55125853431,3026.8676335723876,1500.0,10163.768771724066,2811.5632276775395,57765.40193574792,85239.4143252869,2914.662554604874,21171.13087646298,1136.9632730011356,762.4204533966918,5975.5997585315135,652.6254778367689,3891.336270190896,22080.40915087683,4568.881459813345,10562.422386824184,8209.004160362168,3628.724216959511,676.6734088488881,3864.3112819657813,78382.61690616576,39936.84076846373,53894.99951202783,16425.079091170548,1980.2095318631073,3737.271611179317,13499.50123475438,1897.932961211944,1868.0283312097226,1652.2656804582066,899.4273702957931],\"zmax\":100000,\"zmin\":100,\"type\":\"choropleth\"},{\"hoverlabel\":{\"bgcolor\":\"white\"},\"hovertemplate\":\"%{text} <extra></extra>\",\"locations\":[\"IND\",\"CHN\",\"PAK\",\"PRK\",\"BRA\",\"HTI\",\"DOM\",\"BGD\",\"THA\",\"AFG\",\"NPL\",\"ETH\",\"IDN\",\"DZA\",\"COL\",\"PHL\",\"VNM\",\"MYS\",\"ZAF\",\"MMR\",\"KHM\",\"USA\",\"NGA\",\"YEM\",\"ZWE\",\"JPN\",\"ARG\",\"KEN\",\"SOM\",\"RUS\",\"SDN\",\"SLV\",\"LAO\",\"RWA\",\"UGA\",\"LKA\",\"MOZ\",\"SAU\",\"BDI\",\"DJI\",\"IRN\",\"NER\",\"TUR\",\"ITA\",\"ROU\",\"TZA\",\"GHA\",\"NAM\",\"KOR\",\"FRA\",\"AUT\",\"DEU\",\"AUS\",\"MDG\",\"MWI\",\"PRT\",\"BFA\",\"COD\",\"GBR\",\"CZE\",\"CHL\",\"ZMB\",\"AGO\",\"SGP\",\"HRV\",\"CHE\",\"TGO\",\"POL\",\"BGR\",\"ESP\",\"EGY\",\"NLD\",\"BEL\",\"MKD\",\"SRB\",\"GEO\",\"SVK\",\"LUX\",\"BIH\",\"LBR\",\"MLI\",\"BEN\",\"GMB\",\"CIV\",\"GIN\",\"MRT\",\"SLE\",\"SEN\",\"HUN\",\"IRL\",\"MDA\"],\"marker\":{\"color\":\"rgba(227,18,18,0.6)\",\"size\":[18123,9516,5715,2375,2079,1681,1681,1642,1542,1266,1115,968,889,827,782,677,674,609,567,550,524,383,363,352,349,302,270,270,235,226,209,199,184,156,156,141,132,122,121,121,119,116,115,99,90,88,86,85,79,64,62,62,57,56,56,55,51,50,48,48,43,43,43,39,37,37,35,28,28,26,26,22,22,21,20,20,20,20,17,16,16,16,16,16,16,16,16,16,10,4,2],\"sizemin\":1,\"sizemode\":\"area\",\"sizeref\":7.397142857142857},\"mode\":\"markers\",\"text\":[\"<b>Country: India</b><br><br>Floods death toll (2001-2023): 18123<br>Rank: top 1 in deaths<br><br>GDP per capita (USD): 1423.57\",\"<b>Country: China</b><br><br>Floods death toll (2001-2023): 9516<br>Rank: top 2 in deaths<br><br>GDP per capita (USD): 7014.81\",\"<b>Country: Pakistan</b><br><br>Floods death toll (2001-2023): 5715<br>Rank: top 3 in deaths<br><br>GDP per capita (USD): 1282.5\",\"<b>Country: North Korea</b><br><br>Floods death toll (2001-2023): 2375<br>Rank: top 4 in deaths<br><br>GDP per capita (USD): 1222.06\",\"<b>Country: Brazil</b><br><br>Floods death toll (2001-2023): 2079<br>Rank: top 5 in deaths<br><br>GDP per capita (USD): 10889.92\",\"<b>Country: Haiti</b><br><br>Floods death toll (2001-2023): 1681<br>Rank: top 6 in deaths<br><br>GDP per capita (USD): 858.85\",\"<b>Country: Dominican Republic</b><br><br>Floods death toll (2001-2023): 1681<br>Rank: top 6 in deaths<br><br>GDP per capita (USD): 6033.29\",\"<b>Country: Bangladesh</b><br><br>Floods death toll (2001-2023): 1642<br>Rank: top 8 in deaths<br><br>GDP per capita (USD): 898.04\",\"<b>Country: Thailand</b><br><br>Floods death toll (2001-2023): 1542<br>Rank: top 9 in deaths<br><br>GDP per capita (USD): 5975.6\",\"<b>Country: Afghanistan</b><br><br>Floods death toll (2001-2023): 1266<br>Rank: top 10 in deaths<br><br>GDP per capita (USD): 709.1\",\"<b>Country: Nepal</b><br><br>Floods death toll (2001-2023): 1115<br>Rank: top 11 in deaths<br><br>GDP per capita (USD): 668.01\",\"<b>Country: Ethiopia</b><br><br>Floods death toll (2001-2023): 968<br>Rank: top 12 in deaths<br><br>GDP per capita (USD): 537.87\",\"<b>Country: Indonesia</b><br><br>Floods death toll (2001-2023): 889<br>Rank: top 13 in deaths<br><br>GDP per capita (USD): 3570.42\",\"<b>Country: Algeria</b><br><br>Floods death toll (2001-2023): 827<br>Rank: top 14 in deaths<br><br>GDP per capita (USD): 6236.59\",\"<b>Country: Colombia</b><br><br>Floods death toll (2001-2023): 782<br>Rank: top 15 in deaths<br><br>GDP per capita (USD): 7725.47\",\"<b>Country: Philippines</b><br><br>Floods death toll (2001-2023): 677<br>Rank: top 16 in deaths<br><br>GDP per capita (USD): 2724.72\",\"<b>Country: Vietnam</b><br><br>Floods death toll (2001-2023): 674<br>Rank: top 17 in deaths<br><br>GDP per capita (USD): 1897.93\",\"<b>Country: Malaysia</b><br><br>Floods death toll (2001-2023): 609<br>Rank: top 18 in deaths<br><br>GDP per capita (USD): 11048.74\",\"<b>Country: South Africa</b><br><br>Floods death toll (2001-2023): 567<br>Rank: top 19 in deaths<br><br>GDP per capita (USD): 7222.45\",\"<b>Country: Myanmar</b><br><br>Floods death toll (2001-2023): 550<br>Rank: top 20 in deaths<br><br>GDP per capita (USD): 1112.62\",\"<b>Country: Cambodia</b><br><br>Floods death toll (2001-2023): 524<br>Rank: top 21 in deaths<br><br>GDP per capita (USD): 1082.08\",\"<b>Country: United States</b><br><br>Floods death toll (2001-2023): 383<br>Rank: top 22 in deaths<br><br>GDP per capita (USD): 53895.0\",\"<b>Country: Nigeria</b><br><br>Floods death toll (2001-2023): 363<br>Rank: top 23 in deaths<br><br>GDP per capita (USD): 3259.74\",\"<b>Country: Yemen</b><br><br>Floods death toll (2001-2023): 352<br>Rank: top 24 in deaths<br><br>GDP per capita (USD): 1868.03\",\"<b>Country: Zimbabwe</b><br><br>Floods death toll (2001-2023): 349<br>Rank: top 25 in deaths<br><br>GDP per capita (USD): 899.43\",\"<b>Country: Japan</b><br><br>Floods death toll (2001-2023): 302<br>Rank: top 26 in deaths<br><br>GDP per capita (USD): 39335.99\",\"<b>Country: Argentina</b><br><br>Floods death toll (2001-2023): 270<br>Rank: top 27 in deaths<br><br>GDP per capita (USD): 11721.4\",\"<b>Country: Kenya</b><br><br>Floods death toll (2001-2023): 270<br>Rank: top 27 in deaths<br><br>GDP per capita (USD): 1131.43\",\"<b>Country: Somalia</b><br><br>Floods death toll (2001-2023): 235<br>Rank: top 29 in deaths<br><br>GDP per capita (USD): 234.56\",\"<b>Country: Russia</b><br><br>Floods death toll (2001-2023): 226<br>Rank: top 30 in deaths<br><br>GDP per capita (USD): 15017.55\",\"<b>Country: Sudan</b><br><br>Floods death toll (2001-2023): 209<br>Rank: top 31 in deaths<br><br>GDP per capita (USD): 1500.0\",\"<b>Country: El Salvador</b><br><br>Floods death toll (2001-2023): 199<br>Rank: top 32 in deaths<br><br>GDP per capita (USD): 4076.3\",\"<b>Country: Laos</b><br><br>Floods death toll (2001-2023): 184<br>Rank: top 33 in deaths<br><br>GDP per capita (USD): 1586.01\",\"<b>Country: Rwanda</b><br><br>Floods death toll (2001-2023): 156<br>Rank: top 34 in deaths<br><br>GDP per capita (USD): 696.46\",\"<b>Country: Uganda</b><br><br>Floods death toll (2001-2023): 156<br>Rank: top 34 in deaths<br><br>GDP per capita (USD): 676.67\",\"<b>Country: Sri Lanka</b><br><br>Floods death toll (2001-2023): 141<br>Rank: top 36 in deaths<br><br>GDP per capita (USD): 3026.87\",\"<b>Country: Mozambique</b><br><br>Floods death toll (2001-2023): 132<br>Rank: top 37 in deaths<br><br>GDP per capita (USD): 664.96\",\"<b>Country: Saudi Arabia</b><br><br>Floods death toll (2001-2023): 122<br>Rank: top 38 in deaths<br><br>GDP per capita (USD): 27922.67\",\"<b>Country: Burundi</b><br><br>Floods death toll (2001-2023): 121<br>Rank: top 39 in deaths<br><br>GDP per capita (USD): 271.31\",\"<b>Country: Djibouti</b><br><br>Floods death toll (2001-2023): 121<br>Rank: top 39 in deaths<br><br>GDP per capita (USD): 1970.22\",\"<b>Country: Iran</b><br><br>Floods death toll (2001-2023): 119<br>Rank: top 41 in deaths<br><br>GDP per capita (USD): 5354.68\",\"<b>Country: Niger</b><br><br>Floods death toll (2001-2023): 116<br>Rank: top 42 in deaths<br><br>GDP per capita (USD): 460.0\",\"<b>Country: Turkey</b><br><br>Floods death toll (2001-2023): 115<br>Rank: top 43 in deaths<br><br>GDP per capita (USD): 10562.42\",\"<b>Country: Italy</b><br><br>Floods death toll (2001-2023): 99<br>Rank: top 44 in deaths<br><br>GDP per capita (USD): 34272.27\",\"<b>Country: Romania</b><br><br>Floods death toll (2001-2023): 90<br>Rank: top 45 in deaths<br><br>GDP per capita (USD): 8602.29\",\"<b>Country: Tanzania</b><br><br>Floods death toll (2001-2023): 88<br>Rank: top 46 in deaths<br><br>GDP per capita (USD): 762.42\",\"<b>Country: Ghana</b><br><br>Floods death toll (2001-2023): 86<br>Rank: top 47 in deaths<br><br>GDP per capita (USD): 1871.42\",\"<b>Country: Namibia</b><br><br>Floods death toll (2001-2023): 85<br>Rank: top 48 in deaths<br><br>GDP per capita (USD): 5778.8\",\"<b>Country: South Korea</b><br><br>Floods death toll (2001-2023): 79<br>Rank: top 49 in deaths<br><br>GDP per capita (USD): 24740.49\",\"<b>Country: France</b><br><br>Floods death toll (2001-2023): 64<br>Rank: top 50 in deaths<br><br>GDP per capita (USD): 42289.15\",\"<b>Country: Austria</b><br><br>Floods death toll (2001-2023): 62<br>Rank: top 51 in deaths<br><br>GDP per capita (USD): 50932.36\",\"<b>Country: Germany</b><br><br>Floods death toll (2001-2023): 62<br>Rank: top 51 in deaths<br><br>GDP per capita (USD): 43922.99\",\"<b>Country: Australia</b><br><br>Floods death toll (2001-2023): 57<br>Rank: top 53 in deaths<br><br>GDP per capita (USD): 69158.63\",\"<b>Country: Madagascar</b><br><br>Floods death toll (2001-2023): 56<br>Rank: top 54 in deaths<br><br>GDP per capita (USD): 494.79\",\"<b>Country: Malawi</b><br><br>Floods death toll (2001-2023): 56<br>Rank: top 54 in deaths<br><br>GDP per capita (USD): 238.42\",\"<b>Country: Portugal</b><br><br>Floods death toll (2001-2023): 55<br>Rank: top 56 in deaths<br><br>GDP per capita (USD): 20541.4\",\"<b>Country: Burkina Faso</b><br><br>Floods death toll (2001-2023): 51<br>Rank: top 57 in deaths<br><br>GDP per capita (USD): 746.84\",\"<b>Country: Democratic Republic of the Congo</b><br><br>Floods death toll (2001-2023): 50<br>Rank: top 58 in deaths<br><br>GDP per capita (USD): 261.72\",\"<b>Country: United Kingdom</b><br><br>Floods death toll (2001-2023): 48<br>Rank: top 59 in deaths<br><br>GDP per capita (USD): 39936.84\",\"<b>Country: Czech Republic</b><br><br>Floods death toll (2001-2023): 48<br>Rank: top 59 in deaths<br><br>GDP per capita (USD): 18594.88\",\"<b>Country: Chile</b><br><br>Floods death toll (2001-2023): 43<br>Rank: top 62 in deaths<br><br>GDP per capita (USD): 16821.43\",\"<b>Country: Zambia</b><br><br>Floods death toll (2001-2023): 43<br>Rank: top 62 in deaths<br><br>GDP per capita (USD): 1652.27\",\"<b>Country: Angola</b><br><br>Floods death toll (2001-2023): 43<br>Rank: top 62 in deaths<br><br>GDP per capita (USD): 9488.71\",\"<b>Country: Singapore</b><br><br>Floods death toll (2001-2023): 39<br>Rank: top 64 in deaths<br><br>GDP per capita (USD): 62900.59\",\"<b>Country: Croatia</b><br><br>Floods death toll (2001-2023): 37<br>Rank: top 65 in deaths<br><br>GDP per capita (USD): 13168.56\",\"<b>Country: Switzerland</b><br><br>Floods death toll (2001-2023): 37<br>Rank: top 65 in deaths<br><br>GDP per capita (USD): 85239.41\",\"<b>Country: Togo</b><br><br>Floods death toll (2001-2023): 35<br>Rank: top 67 in deaths<br><br>GDP per capita (USD): 652.63\",\"<b>Country: Poland</b><br><br>Floods death toll (2001-2023): 28<br>Rank: top 68 in deaths<br><br>GDP per capita (USD): 13348.05\",\"<b>Country: Bulgaria</b><br><br>Floods death toll (2001-2023): 28<br>Rank: top 68 in deaths<br><br>GDP per capita (USD): 7511.77\",\"<b>Country: Spain</b><br><br>Floods death toll (2001-2023): 26<br>Rank: top 70 in deaths<br><br>GDP per capita (USD): 29157.55\",\"<b>Country: Egypt</b><br><br>Floods death toll (2001-2023): 26<br>Rank: top 70 in deaths<br><br>GDP per capita (USD): 3255.8\",\"<b>Country: Netherlands</b><br><br>Floods death toll (2001-2023): 22<br>Rank: top 72 in deaths<br><br>GDP per capita (USD): 43394.41\",\"<b>Country: Belgium</b><br><br>Floods death toll (2001-2023): 22<br>Rank: top 72 in deaths<br><br>GDP per capita (USD): 48774.39\",\"<b>Country: Macedonia</b><br><br>Floods death toll (2001-2023): 21<br>Rank: top 74 in deaths<br><br>GDP per capita (USD): 5164.15\",\"<b>Country: Serbia</b><br><br>Floods death toll (2001-2023): 20<br>Rank: top 76 in deaths<br><br>GDP per capita (USD): 5947.03\",\"<b>Country: Georgia</b><br><br>Floods death toll (2001-2023): 20<br>Rank: top 76 in deaths<br><br>GDP per capita (USD): 3444.92\",\"<b>Country: Slovakia</b><br><br>Floods death toll (2001-2023): 20<br>Rank: top 76 in deaths<br><br>GDP per capita (USD): 17774.52\",\"<b>Country: Luxembourg</b><br><br>Floods death toll (2001-2023): 20<br>Rank: top 76 in deaths<br><br>GDP per capita (USD): 121679.15\",\"<b>Country: Bosnia and Herzegovina</b><br><br>Floods death toll (2001-2023): 17<br>Rank: top 79 in deaths<br><br>GDP per capita (USD): 4111.11\",\"<b>Country: Liberia</b><br><br>Floods death toll (2001-2023): 16<br>Rank: top 84 in deaths<br><br>GDP per capita (USD): 536.49\",\"<b>Country: Mali</b><br><br>Floods death toll (2001-2023): 16<br>Rank: top 84 in deaths<br><br>GDP per capita (USD): 824.13\",\"<b>Country: Benin</b><br><br>Floods death toll (2001-2023): 16<br>Rank: top 84 in deaths<br><br>GDP per capita (USD): 923.03\",\"<b>Country: Gambia</b><br><br>Floods death toll (2001-2023): 16<br>Rank: top 84 in deaths<br><br>GDP per capita (USD): 562.37\",\"<b>Country: Ivory Coast</b><br><br>Floods death toll (2001-2023): 16<br>Rank: top 84 in deaths<br><br>GDP per capita (USD): 1342.91\",\"<b>Country: Guinea</b><br><br>Floods death toll (2001-2023): 16<br>Rank: top 84 in deaths<br><br>GDP per capita (USD): 633.86\",\"<b>Country: Mauritania</b><br><br>Floods death toll (2001-2023): 16<br>Rank: top 84 in deaths<br><br>GDP per capita (USD): 1305.12\",\"<b>Country: Sierra Leone</b><br><br>Floods death toll (2001-2023): 16<br>Rank: top 84 in deaths<br><br>GDP per capita (USD): 878.24\",\"<b>Country: Senegal</b><br><br>Floods death toll (2001-2023): 16<br>Rank: top 84 in deaths<br><br>GDP per capita (USD): 1246.42\",\"<b>Country: Hungary</b><br><br>Floods death toll (2001-2023): 10<br>Rank: top 89 in deaths<br><br>GDP per capita (USD): 13083.55\",\"<b>Country: Ireland</b><br><br>Floods death toll (2001-2023): 4<br>Rank: top 90 in deaths<br><br>GDP per capita (USD): 47783.68\",\"<b>Country: Moldova</b><br><br>Floods death toll (2001-2023): 2<br>Rank: top 91 in deaths<br><br>GDP per capita (USD): 1834.41\"],\"type\":\"scattergeo\"}],                        {\"template\":{\"data\":{\"histogram2dcontour\":[{\"type\":\"histogram2dcontour\",\"colorbar\":{\"outlinewidth\":0,\"ticks\":\"\"},\"colorscale\":[[0.0,\"#0d0887\"],[0.1111111111111111,\"#46039f\"],[0.2222222222222222,\"#7201a8\"],[0.3333333333333333,\"#9c179e\"],[0.4444444444444444,\"#bd3786\"],[0.5555555555555556,\"#d8576b\"],[0.6666666666666666,\"#ed7953\"],[0.7777777777777778,\"#fb9f3a\"],[0.8888888888888888,\"#fdca26\"],[1.0,\"#f0f921\"]]}],\"choropleth\":[{\"type\":\"choropleth\",\"colorbar\":{\"outlinewidth\":0,\"ticks\":\"\"}}],\"histogram2d\":[{\"type\":\"histogram2d\",\"colorbar\":{\"outlinewidth\":0,\"ticks\":\"\"},\"colorscale\":[[0.0,\"#0d0887\"],[0.1111111111111111,\"#46039f\"],[0.2222222222222222,\"#7201a8\"],[0.3333333333333333,\"#9c179e\"],[0.4444444444444444,\"#bd3786\"],[0.5555555555555556,\"#d8576b\"],[0.6666666666666666,\"#ed7953\"],[0.7777777777777778,\"#fb9f3a\"],[0.8888888888888888,\"#fdca26\"],[1.0,\"#f0f921\"]]}],\"heatmap\":[{\"type\":\"heatmap\",\"colorbar\":{\"outlinewidth\":0,\"ticks\":\"\"},\"colorscale\":[[0.0,\"#0d0887\"],[0.1111111111111111,\"#46039f\"],[0.2222222222222222,\"#7201a8\"],[0.3333333333333333,\"#9c179e\"],[0.4444444444444444,\"#bd3786\"],[0.5555555555555556,\"#d8576b\"],[0.6666666666666666,\"#ed7953\"],[0.7777777777777778,\"#fb9f3a\"],[0.8888888888888888,\"#fdca26\"],[1.0,\"#f0f921\"]]}],\"heatmapgl\":[{\"type\":\"heatmapgl\",\"colorbar\":{\"outlinewidth\":0,\"ticks\":\"\"},\"colorscale\":[[0.0,\"#0d0887\"],[0.1111111111111111,\"#46039f\"],[0.2222222222222222,\"#7201a8\"],[0.3333333333333333,\"#9c179e\"],[0.4444444444444444,\"#bd3786\"],[0.5555555555555556,\"#d8576b\"],[0.6666666666666666,\"#ed7953\"],[0.7777777777777778,\"#fb9f3a\"],[0.8888888888888888,\"#fdca26\"],[1.0,\"#f0f921\"]]}],\"contourcarpet\":[{\"type\":\"contourcarpet\",\"colorbar\":{\"outlinewidth\":0,\"ticks\":\"\"}}],\"contour\":[{\"type\":\"contour\",\"colorbar\":{\"outlinewidth\":0,\"ticks\":\"\"},\"colorscale\":[[0.0,\"#0d0887\"],[0.1111111111111111,\"#46039f\"],[0.2222222222222222,\"#7201a8\"],[0.3333333333333333,\"#9c179e\"],[0.4444444444444444,\"#bd3786\"],[0.5555555555555556,\"#d8576b\"],[0.6666666666666666,\"#ed7953\"],[0.7777777777777778,\"#fb9f3a\"],[0.8888888888888888,\"#fdca26\"],[1.0,\"#f0f921\"]]}],\"surface\":[{\"type\":\"surface\",\"colorbar\":{\"outlinewidth\":0,\"ticks\":\"\"},\"colorscale\":[[0.0,\"#0d0887\"],[0.1111111111111111,\"#46039f\"],[0.2222222222222222,\"#7201a8\"],[0.3333333333333333,\"#9c179e\"],[0.4444444444444444,\"#bd3786\"],[0.5555555555555556,\"#d8576b\"],[0.6666666666666666,\"#ed7953\"],[0.7777777777777778,\"#fb9f3a\"],[0.8888888888888888,\"#fdca26\"],[1.0,\"#f0f921\"]]}],\"mesh3d\":[{\"type\":\"mesh3d\",\"colorbar\":{\"outlinewidth\":0,\"ticks\":\"\"}}],\"scatter\":[{\"fillpattern\":{\"fillmode\":\"overlay\",\"size\":10,\"solidity\":0.2},\"type\":\"scatter\"}],\"parcoords\":[{\"type\":\"parcoords\",\"line\":{\"colorbar\":{\"outlinewidth\":0,\"ticks\":\"\"}}}],\"scatterpolargl\":[{\"type\":\"scatterpolargl\",\"marker\":{\"colorbar\":{\"outlinewidth\":0,\"ticks\":\"\"}}}],\"bar\":[{\"error_x\":{\"color\":\"#2a3f5f\"},\"error_y\":{\"color\":\"#2a3f5f\"},\"marker\":{\"line\":{\"color\":\"#E5ECF6\",\"width\":0.5},\"pattern\":{\"fillmode\":\"overlay\",\"size\":10,\"solidity\":0.2}},\"type\":\"bar\"}],\"scattergeo\":[{\"type\":\"scattergeo\",\"marker\":{\"colorbar\":{\"outlinewidth\":0,\"ticks\":\"\"}}}],\"scatterpolar\":[{\"type\":\"scatterpolar\",\"marker\":{\"colorbar\":{\"outlinewidth\":0,\"ticks\":\"\"}}}],\"histogram\":[{\"marker\":{\"pattern\":{\"fillmode\":\"overlay\",\"size\":10,\"solidity\":0.2}},\"type\":\"histogram\"}],\"scattergl\":[{\"type\":\"scattergl\",\"marker\":{\"colorbar\":{\"outlinewidth\":0,\"ticks\":\"\"}}}],\"scatter3d\":[{\"type\":\"scatter3d\",\"line\":{\"colorbar\":{\"outlinewidth\":0,\"ticks\":\"\"}},\"marker\":{\"colorbar\":{\"outlinewidth\":0,\"ticks\":\"\"}}}],\"scattermapbox\":[{\"type\":\"scattermapbox\",\"marker\":{\"colorbar\":{\"outlinewidth\":0,\"ticks\":\"\"}}}],\"scatterternary\":[{\"type\":\"scatterternary\",\"marker\":{\"colorbar\":{\"outlinewidth\":0,\"ticks\":\"\"}}}],\"scattercarpet\":[{\"type\":\"scattercarpet\",\"marker\":{\"colorbar\":{\"outlinewidth\":0,\"ticks\":\"\"}}}],\"carpet\":[{\"aaxis\":{\"endlinecolor\":\"#2a3f5f\",\"gridcolor\":\"white\",\"linecolor\":\"white\",\"minorgridcolor\":\"white\",\"startlinecolor\":\"#2a3f5f\"},\"baxis\":{\"endlinecolor\":\"#2a3f5f\",\"gridcolor\":\"white\",\"linecolor\":\"white\",\"minorgridcolor\":\"white\",\"startlinecolor\":\"#2a3f5f\"},\"type\":\"carpet\"}],\"table\":[{\"cells\":{\"fill\":{\"color\":\"#EBF0F8\"},\"line\":{\"color\":\"white\"}},\"header\":{\"fill\":{\"color\":\"#C8D4E3\"},\"line\":{\"color\":\"white\"}},\"type\":\"table\"}],\"barpolar\":[{\"marker\":{\"line\":{\"color\":\"#E5ECF6\",\"width\":0.5},\"pattern\":{\"fillmode\":\"overlay\",\"size\":10,\"solidity\":0.2}},\"type\":\"barpolar\"}],\"pie\":[{\"automargin\":true,\"type\":\"pie\"}]},\"layout\":{\"autotypenumbers\":\"strict\",\"colorway\":[\"#636efa\",\"#EF553B\",\"#00cc96\",\"#ab63fa\",\"#FFA15A\",\"#19d3f3\",\"#FF6692\",\"#B6E880\",\"#FF97FF\",\"#FECB52\"],\"font\":{\"color\":\"#2a3f5f\"},\"hovermode\":\"closest\",\"hoverlabel\":{\"align\":\"left\"},\"paper_bgcolor\":\"white\",\"plot_bgcolor\":\"#E5ECF6\",\"polar\":{\"bgcolor\":\"#E5ECF6\",\"angularaxis\":{\"gridcolor\":\"white\",\"linecolor\":\"white\",\"ticks\":\"\"},\"radialaxis\":{\"gridcolor\":\"white\",\"linecolor\":\"white\",\"ticks\":\"\"}},\"ternary\":{\"bgcolor\":\"#E5ECF6\",\"aaxis\":{\"gridcolor\":\"white\",\"linecolor\":\"white\",\"ticks\":\"\"},\"baxis\":{\"gridcolor\":\"white\",\"linecolor\":\"white\",\"ticks\":\"\"},\"caxis\":{\"gridcolor\":\"white\",\"linecolor\":\"white\",\"ticks\":\"\"}},\"coloraxis\":{\"colorbar\":{\"outlinewidth\":0,\"ticks\":\"\"}},\"colorscale\":{\"sequential\":[[0.0,\"#0d0887\"],[0.1111111111111111,\"#46039f\"],[0.2222222222222222,\"#7201a8\"],[0.3333333333333333,\"#9c179e\"],[0.4444444444444444,\"#bd3786\"],[0.5555555555555556,\"#d8576b\"],[0.6666666666666666,\"#ed7953\"],[0.7777777777777778,\"#fb9f3a\"],[0.8888888888888888,\"#fdca26\"],[1.0,\"#f0f921\"]],\"sequentialminus\":[[0.0,\"#0d0887\"],[0.1111111111111111,\"#46039f\"],[0.2222222222222222,\"#7201a8\"],[0.3333333333333333,\"#9c179e\"],[0.4444444444444444,\"#bd3786\"],[0.5555555555555556,\"#d8576b\"],[0.6666666666666666,\"#ed7953\"],[0.7777777777777778,\"#fb9f3a\"],[0.8888888888888888,\"#fdca26\"],[1.0,\"#f0f921\"]],\"diverging\":[[0,\"#8e0152\"],[0.1,\"#c51b7d\"],[0.2,\"#de77ae\"],[0.3,\"#f1b6da\"],[0.4,\"#fde0ef\"],[0.5,\"#f7f7f7\"],[0.6,\"#e6f5d0\"],[0.7,\"#b8e186\"],[0.8,\"#7fbc41\"],[0.9,\"#4d9221\"],[1,\"#276419\"]]},\"xaxis\":{\"gridcolor\":\"white\",\"linecolor\":\"white\",\"ticks\":\"\",\"title\":{\"standoff\":15},\"zerolinecolor\":\"white\",\"automargin\":true,\"zerolinewidth\":2},\"yaxis\":{\"gridcolor\":\"white\",\"linecolor\":\"white\",\"ticks\":\"\",\"title\":{\"standoff\":15},\"zerolinecolor\":\"white\",\"automargin\":true,\"zerolinewidth\":2},\"scene\":{\"xaxis\":{\"backgroundcolor\":\"#E5ECF6\",\"gridcolor\":\"white\",\"linecolor\":\"white\",\"showbackground\":true,\"ticks\":\"\",\"zerolinecolor\":\"white\",\"gridwidth\":2},\"yaxis\":{\"backgroundcolor\":\"#E5ECF6\",\"gridcolor\":\"white\",\"linecolor\":\"white\",\"showbackground\":true,\"ticks\":\"\",\"zerolinecolor\":\"white\",\"gridwidth\":2},\"zaxis\":{\"backgroundcolor\":\"#E5ECF6\",\"gridcolor\":\"white\",\"linecolor\":\"white\",\"showbackground\":true,\"ticks\":\"\",\"zerolinecolor\":\"white\",\"gridwidth\":2}},\"shapedefaults\":{\"line\":{\"color\":\"#2a3f5f\"}},\"annotationdefaults\":{\"arrowcolor\":\"#2a3f5f\",\"arrowhead\":0,\"arrowwidth\":1},\"geo\":{\"bgcolor\":\"white\",\"landcolor\":\"#E5ECF6\",\"subunitcolor\":\"white\",\"showland\":true,\"showlakes\":true,\"lakecolor\":\"white\"},\"title\":{\"x\":0.05},\"mapbox\":{\"style\":\"light\"}}},\"geo\":{\"projection\":{\"type\":\"equirectangular\"},\"lataxis\":{\"range\":[-60,90]},\"showframe\":false,\"showcoastlines\":false},\"title\":{\"font\":{\"color\":\"#525252\",\"size\":18},\"text\":\"<b>World GDP per capita and victims of floods during 21st century</b>\",\"y\":0.9,\"x\":0.5,\"xanchor\":\"center\",\"yanchor\":\"top\"},\"font\":{\"family\":\"Arial\",\"size\":12,\"color\":\"#525252\"},\"width\":1000,\"height\":620,\"annotations\":[{\"showarrow\":false,\"text\":\"Source: <a href=\\\"https://en.wikipedia.org/wiki/List_of_deadliest_floods\\\">Wikipedia</a> and <a href=\\\"https://countrycode.org\\\">CountryCode</a>\",\"x\":0.5,\"xref\":\"paper\",\"y\":0.1,\"yref\":\"paper\"}]},                        {\"responsive\": true}                    ).then(function(){\n",
       "                            \n",
       "var gd = document.getElementById('9a28b20f-ce53-4623-b2ba-bee538c9ea89');\n",
       "var x = new MutationObserver(function (mutations, observer) {{\n",
       "        var display = window.getComputedStyle(gd).display;\n",
       "        if (!display || display === 'none') {{\n",
       "            console.log([gd, 'removed!']);\n",
       "            Plotly.purge(gd);\n",
       "            observer.disconnect();\n",
       "        }}\n",
       "}});\n",
       "\n",
       "// Listen for the removal of the full notebook cells\n",
       "var notebookContainer = gd.closest('#notebook-container');\n",
       "if (notebookContainer) {{\n",
       "    x.observe(notebookContainer, {childList: true});\n",
       "}}\n",
       "\n",
       "// Listen for the clearing of the current output cell\n",
       "var outputEl = gd.closest('.output');\n",
       "if (outputEl) {{\n",
       "    x.observe(outputEl, {childList: true});\n",
       "}}\n",
       "\n",
       "                        })                };                });            </script>        </div>"
      ]
     },
     "metadata": {},
     "output_type": "display_data"
    }
   ],
   "source": [
    "import pandas as pd\n",
    "import numpy as np\n",
    "from functools import reduce\n",
    "import re\n",
    "import matplotlib.pyplot as plt\n",
    "import io\n",
    "import requests\n",
    "import plotly.graph_objects as go\n",
    "from datetime import date\n",
    "\n",
    "\"\"\"\n",
    "BRIEF EXPLANATION ABOUT HOW THIS NOTEBOOK PLOTS THE CHART\n",
    "\n",
    "STEP 1 - Open and treat dataset from wikipedia about Floods victms (Source Wikipedia online)\n",
    "STEP 2 - Open and treat a dataset from CountryCode with Country codes and GDP data\n",
    "STEP 3 - Perform a inner join on both datasets on country codes (3-digits)\n",
    "STEP 4 - Plot a choropleth map using Plotly library, depicting GDP per capita and Deaths related to Floods\n",
    "\n",
    "\"\"\"\n",
    "\n",
    "        \n",
    "\"\"\"\n",
    "STEP 1 - Open and treat dataset from wikipedia about Floods victms (Source Wikipedia online)\n",
    "\"\"\"\n",
    "df_list = pd.read_html('https://en.wikipedia.org/wiki/List_of_deadliest_floods')\n",
    "\n",
    "''' Treat column adjusting to numerical format '''\n",
    "def adjust_data_format(column):\n",
    "    column_a = column.astype(str).replace('\\[.*\\]', '', regex=True).replace(',','', regex=True).replace(r'\\+', '', regex=True)\n",
    "    return column_a\n",
    "    \n",
    "''' Treat country names accross multiple rows '''\n",
    "def split_countries(df,target_column,separator=','):\n",
    "    import itertools\n",
    "    df['Number_Countries'] = 1\n",
    "    def split_rows(row,row_accumulator,target_column,separator):\n",
    "        \n",
    "        if not pd.isnull(row[target_column]):\n",
    "            split_row = row[target_column].split(separator)\n",
    "            for s in split_row:\n",
    "                new_row = row.to_dict()\n",
    "                new_row[target_column] = s.strip()\n",
    "                new_row['Number_Countries'] = len(split_row)\n",
    "                row_accumulator.append(new_row)\n",
    "        else:\n",
    "                row_accumulator.append(row)\n",
    "    new_rows = []\n",
    "    df.apply(split_rows,axis=1,args = (new_rows,target_column,separator))\n",
    "    new_df = pd.DataFrame(new_rows)\n",
    "    return new_df\n",
    "\n",
    "\n",
    "max_year = np.max(df_list[1].Year) # get last year from data source\n",
    "\n",
    "del df_list[0] # drop not used table (just some introduction)\n",
    "del df_list[0] # drop not used table (list of the deadliest floods)\n",
    "\n",
    "years = list(range(max_year, 1999, -1))\n",
    "\n",
    "df_list = df_list[:len(years)]\n",
    "\n",
    "# index each table by year\n",
    "for df, year in zip(df_list, years ):\n",
    "    df.columns = ['Date', 'Death toll', 'Location', 'Event']\n",
    "    df['Year'] = year\n",
    "    df['Death toll'] = adjust_data_format(df['Death toll'])\n",
    "    \n",
    "# append all tables into a single dataframe\n",
    "df_floods_deaths = pd.concat(df_list[:len(years)])\n",
    "df_floods_deaths = df_floods_deaths.reset_index(drop=True)\n",
    "df_floods_deaths = df_floods_deaths[df_floods_deaths['Location'].str.strip() != 'Location']\n",
    "\n",
    "# treat Death toll column\n",
    "df_floods_deaths['Death toll'] = df_floods_deaths['Death toll'].astype(int)\n",
    "\n",
    "# treat Location column (remove cities keep country)\n",
    "df_floods_deaths['Location'] = df_floods_deaths['Location'].str.replace(' Bab El Oued', '')\n",
    "df_floods_deaths['Location'] = df_floods_deaths['Location'].str.replace('Jiangsu', '')\n",
    "df_floods_deaths['Location'] = df_floods_deaths['Location'].str.replace('São Paulo', '')\n",
    "df_floods_deaths['Location'] = df_floods_deaths['Location'].str.replace('Shaanxi Hebei', '')\n",
    "df_floods_deaths['Location'] = df_floods_deaths['Location'].str.replace('Zhejiang', '')\n",
    "df_floods_deaths['Location'] = df_floods_deaths['Location'].str.replace('Sumatra', '')\n",
    "df_floods_deaths['Location'] = df_floods_deaths['Location'].str.replace('Maharastra', '')\n",
    "df_floods_deaths['Location'] = df_floods_deaths['Location'].str.replace('Republic of Macedonia', 'Macedonia')\n",
    "\n",
    "df_floods_deaths['Location'] = df_floods_deaths['Location'].str.strip()\n",
    "df_floods_deaths['Countries affected'] = df_floods_deaths['Location']\n",
    "\n",
    "# split countries related to the same event\n",
    "df_floods_deaths = split_countries(df_floods_deaths, 'Location' )\n",
    "\n",
    "# estimate the death toll per country (assumption: linearly distributed among involved countries)\n",
    "df_floods_deaths['Death toll Estimated per Country'] = df_floods_deaths['Death toll'] / df_floods_deaths['Number_Countries']\n",
    "df_floods_deaths['Death toll Estimated per Country'] = df_floods_deaths['Death toll Estimated per Country'].astype(int)\n",
    "\n",
    "# select data only 21st century\n",
    "df_floods_deaths = df_floods_deaths[df_floods_deaths['Year']>2000]\n",
    "\n",
    "# summarize data per country and sort descending\n",
    "df_floods_deaths_summarized = df_floods_deaths.groupby('Location').agg({'Death toll Estimated per Country' : 'sum'}).dropna()\n",
    "df_floods_deaths_summarized = df_floods_deaths_summarized.sort_values(by='Death toll Estimated per Country', ascending=False)\n",
    "\n",
    "\"\"\"\n",
    "STEP 2 - Open and treat a dataset from CountryCode with Country codes and GDP data\n",
    "\"\"\"\n",
    "\n",
    "# reads the html\n",
    "countries_data = pd.read_html('https://countrycode.org')[0]\n",
    "\n",
    "# grab 3-digit iso-code\n",
    "countries_data['CODE3'] = countries_data['ISO CODES'].str.replace('[A-Z][A-Z] / ', '', regex=True)\n",
    "\n",
    "# treat GDP data (the source presents it in a text format, with milions, billions, etc)\n",
    "countries_data['UnitGDP'] = 1.0\n",
    "countries_data = countries_data[  countries_data['GDP $USD'].notnull()  ]\n",
    "countries_data['UnitGDP'] = countries_data['GDP $USD'].apply(lambda x : 1000000.0 if 'Mil' in x else (1000000000.0 if 'Bil' in x else (1000000000000.0 if 'Tri' in x else 1.0 )) )\n",
    "countries_data['GDP $USD'] = countries_data['GDP $USD'].str.replace(' Million', '')\n",
    "countries_data['GDP $USD'] = countries_data['GDP $USD'].str.replace(' Billion', '')\n",
    "countries_data['GDP $USD'] = countries_data['GDP $USD'].str.replace(' Trillion', '')\n",
    "countries_data['GDP $USD'] = countries_data['GDP $USD'].astype(float)\n",
    "countries_data['GDP_FULL_NUMBER'] = countries_data['UnitGDP'] * countries_data['GDP $USD']\n",
    "\n",
    "# calculated GDP per capita\n",
    "countries_data['POPULATION'] = countries_data['POPULATION'].astype(float)\n",
    "countries_data['GDP_PER_CAPITA'] = countries_data['GDP_FULL_NUMBER'] / countries_data['POPULATION']\n",
    "\n",
    "\n",
    "\"\"\"\n",
    "STEP 3 - Perform a inner join on both datasets on country codes (3-digits\"\n",
    "\"\"\"\n",
    "df_floods_geo = df_floods_deaths_summarized.merge(countries_data, how='inner', left_index=True, right_on='COUNTRY')\n",
    "df_floods_geo = df_floods_geo.sort_values(by='Death toll Estimated per Country', ascending=False)\n",
    "df_floods_geo['Rank'] = df_floods_geo['Death toll Estimated per Country'].rank(ascending=False)\n",
    "\n",
    "# adds a summary to each record (this will be used in the next step)\n",
    "df_floods_geo['SUMMARY'] = (\n",
    "    '<b>' \n",
    "    + 'Country: '\n",
    "    + df_floods_geo['COUNTRY']\n",
    "    + '</b>'\n",
    "    + '<br><br>'\n",
    "    + 'Floods death toll (2001-' + str(max_year) +'): '\n",
    "    + df_floods_geo['Death toll Estimated per Country'].astype(str)\n",
    "    + '<br>'\n",
    "    + 'Rank: top '\n",
    "    + df_floods_geo['Rank'].astype(int).astype(str)\n",
    "    + ' in deaths<br>'\n",
    "    + '<br>'\n",
    "    + 'GDP per capita (USD): '\n",
    "    + round(df_floods_geo['GDP_PER_CAPITA'], 2).astype(str)\n",
    "    )\n",
    "\n",
    "\"\"\"\n",
    "STEP 4 - Plot a choropleth map using Plotly library, depicting GDP per capita and Deaths related to Floods\n",
    "My main reference to this code is: https://sharkcoder.com/data-visualization/plotly-maps\n",
    "\"\"\"\n",
    "\n",
    "# Embed 2 plots in the same figure\n",
    "fig = go.Figure(\n",
    "    data=\n",
    "                    [   # GDP data\n",
    "                        go.Choropleth( \n",
    "                                    locations = countries_data['CODE3'],\n",
    "                                    z = countries_data['GDP_PER_CAPITA'],\n",
    "                                    text = \"GDP per capita (USD) of \" + countries_data['COUNTRY'],\n",
    "                                    colorscale = 'Blues',\n",
    "                                    autocolorscale=False,\n",
    "                                    reversescale=False,\n",
    "                                    marker_line_color='darkgray',\n",
    "                                    marker_line_width=0.5,\n",
    "                                    colorbar_title = 'GDP per <br>capita (USD)',\n",
    "                                    zmin = 100,\n",
    "                                    zmax = 100000,  # I've limitated some countries which are outliers\n",
    "                                    hoverinfo='skip'\n",
    "\n",
    "\n",
    "                                 ) , \n",
    "                        # Floods data\n",
    "                        go.Scattergeo(\n",
    "                                            locations = df_floods_geo['CODE3'],\n",
    "                                            mode='markers',\n",
    "                                            marker=dict(\n",
    "                                                size=df_floods_geo['Death toll Estimated per Country'],\n",
    "                                                sizemode='area',\n",
    "                                                # this formula is a algorithm provided by plotly to set optimal bubble size\n",
    "                                                # https://plotly.com/python/bubble-charts/\n",
    "                                                sizeref= ( max(df_floods_geo['Death toll Estimated per Country']) * 2 ) / (70.**2),\n",
    "                                                sizemin=1,\n",
    "                                                line=None,\n",
    "                                                color='rgba(227,18,18,0.6)' # red\n",
    "                                               ),\n",
    "                                            text = df_floods_geo['SUMMARY'],\n",
    "                                            hoverlabel = dict(bgcolor='white'),\n",
    "                                            hovertemplate = '%{text} <extra></extra>',\n",
    "\n",
    "                            \n",
    "                                )\n",
    "\n",
    "                    ]\n",
    "               \n",
    "               )\n",
    "\n",
    "# Embelishments to the chart\n",
    "fig.update_layout(\n",
    "    width=1000,\n",
    "    height=620,\n",
    "    geo=dict(\n",
    "        showframe=False,\n",
    "        showcoastlines=False,\n",
    "        projection_type='equirectangular',\n",
    "        lataxis = dict( range = [-60, 90]), #Clip Antarctica\n",
    "    ),\n",
    "    title={\n",
    "        'text': '<b>World GDP per capita and victims of floods during 21st century</b>',\n",
    "        'y':0.9,\n",
    "        'x':0.5,\n",
    "        'xanchor': 'center',\n",
    "        'yanchor': 'top',\n",
    "    },\n",
    "    title_font_color='#525252',\n",
    "    title_font_size=18,\n",
    "    font=dict(\n",
    "        family='Arial', \n",
    "        size=12, \n",
    "        color='#525252'\n",
    "    ),\n",
    "    annotations = [dict(\n",
    "        x=0.5,\n",
    "        y=0.1,\n",
    "        xref='paper',\n",
    "        yref='paper',\n",
    "        text='Source: <a href=\"https://en.wikipedia.org/wiki/List_of_deadliest_floods\">Wikipedia</a> and <a href=\"https://countrycode.org\">CountryCode</a>',\n",
    "        showarrow = False\n",
    "    )]\n",
    ")\n",
    "\n",
    "fig.show()"
   ]
  },
  {
   "cell_type": "code",
   "execution_count": null,
   "metadata": {},
   "outputs": [],
   "source": [
    "\n"
   ]
  },
  {
   "cell_type": "code",
   "execution_count": null,
   "metadata": {},
   "outputs": [],
   "source": []
  },
  {
   "cell_type": "code",
   "execution_count": null,
   "metadata": {},
   "outputs": [],
   "source": []
  }
 ],
 "metadata": {
  "kernelspec": {
   "display_name": "Python 3 (ipykernel)",
   "language": "python",
   "name": "python3"
  },
  "language_info": {
   "codemirror_mode": {
    "name": "ipython",
    "version": 3
   },
   "file_extension": ".py",
   "mimetype": "text/x-python",
   "name": "python",
   "nbconvert_exporter": "python",
   "pygments_lexer": "ipython3",
   "version": "3.9.13"
  }
 },
 "nbformat": 4,
 "nbformat_minor": 4
}
